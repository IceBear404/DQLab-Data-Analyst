{
  "cells": [
    {
      "cell_type": "markdown",
      "metadata": {
        "id": "eLK8E8S43tA5"
      },
      "source": [
        "# [Pengenalan Dataset](https://academy.dqlab.id/main/livecode/164/312/1447?pr=0)"
      ]
    },
    {
      "cell_type": "code",
      "execution_count": null,
      "metadata": {
        "id": "kuGiits14OU0"
      },
      "outputs": [],
      "source": [
        "import pandas as pd\n",
        "dataset = pd.read_csv( 'https://storage.googleapis.com/dqlab-dataset/retail_raw_reduced.csv')\n",
        "print('Ukuran dataset: %d baris dan %d kolom\\n' % dataset.shape)\n",
        "print('Lima data teratas:')\n",
        "print(dataset.head())"
      ]
    },
    {
      "cell_type": "markdown",
      "metadata": {
        "id": "bM1WE0CN4Qmm"
      },
      "source": [
        "# [Penambahan Kolom Order Month pada Dataset](https://academy.dqlab.id/main/livecode/164/312/1450?pr=0)"
      ]
    },
    {
      "cell_type": "code",
      "execution_count": null,
      "metadata": {
        "id": "vJMfGQrQ4X3C"
      },
      "outputs": [],
      "source": [
        "import datetime\n",
        "dataset['order_month'] = dataset['order_date'].apply(lambda x: datetime.datetime.strptime(x, \"%Y-%m-%d\").strftime('%Y-%m'))\n",
        "print(dataset.head())"
      ]
    },
    {
      "cell_type": "markdown",
      "metadata": {
        "id": "YNvn4RqR4Yi2"
      },
      "source": [
        "# [Penambahan Kolom GMV pada Dataset](https://academy.dqlab.id/main/livecode/164/312/1451?pr=0)"
      ]
    },
    {
      "cell_type": "code",
      "execution_count": null,
      "metadata": {
        "id": "2eh4iCZF4fQ1"
      },
      "outputs": [],
      "source": [
        "dataset['gmv'] = dataset['item_price']*dataset['quantity']\n",
        "print('Ukuran Dataset: %d baris dan %d kolom\\n' % dataset.shape)\n",
        "print('Lima data teratas:')\n",
        "print(dataset.head())"
      ]
    },
    {
      "cell_type": "markdown",
      "metadata": {
        "id": "0m_FliWd4iLD"
      },
      "source": [
        "# [Membuat Data Agregat](https://academy.dqlab.id/main/livecode/164/313/1453?pr=0)"
      ]
    },
    {
      "cell_type": "code",
      "execution_count": null,
      "metadata": {
        "id": "TBultOPm44w0"
      },
      "outputs": [],
      "source": [
        "monthly_amount = dataset.groupby('order_month')['gmv'].sum().reset_index()\n",
        "print(monthly_amount)"
      ]
    },
    {
      "cell_type": "markdown",
      "metadata": {
        "id": "7vFImm0i45ep"
      },
      "source": [
        "# [Plot Pertama: Membuat Line Chart Trend Pertumbuhan GMV](https://academy.dqlab.id/main/livecode/164/313/1454?pr=0)"
      ]
    },
    {
      "cell_type": "code",
      "execution_count": null,
      "metadata": {
        "id": "iyl51EIS5BWq"
      },
      "outputs": [],
      "source": [
        "import matplotlib.pyplot as plt\n",
        "plt.plot(monthly_amount['order_month'],monthly_amount['gmv'])\n",
        "plt.show()"
      ]
    },
    {
      "cell_type": "markdown",
      "metadata": {
        "id": "IPWN4pUU5Bwc"
      },
      "source": [
        "# [Cara Alternatif: Fungsi .plot() pada pandas Dataframe](https://academy.dqlab.id/main/livecode/164/313/1455?pr=0)"
      ]
    },
    {
      "cell_type": "code",
      "execution_count": null,
      "metadata": {
        "id": "lW_ykUh35I5_"
      },
      "outputs": [],
      "source": [
        "import matplotlib.pyplot as plt\n",
        "dataset.groupby(['order_month'])['gmv'].sum().plot()\n",
        "plt.show()"
      ]
    },
    {
      "cell_type": "markdown",
      "metadata": {
        "id": "mfDLxx4Q5XJR"
      },
      "source": [
        "# [Mengubah Figure Size](https://academy.dqlab.id/main/livecode/164/314/1459?pr=0)"
      ]
    },
    {
      "cell_type": "code",
      "execution_count": null,
      "metadata": {
        "id": "AMIDFVx95cZS"
      },
      "outputs": [],
      "source": [
        "import matplotlib.pyplot as plt\n",
        "plt.figure(figsize=(15,5))\n",
        "dataset.groupby(['order_month'])['gmv'].sum().plot()\n",
        "plt.show()"
      ]
    },
    {
      "cell_type": "markdown",
      "metadata": {
        "id": "7XgTei565fKS"
      },
      "source": [
        "# [Menambahkan Title and Axis Labels](https://academy.dqlab.id/main/livecode/164/314/1461?pr=0)"
      ]
    },
    {
      "cell_type": "code",
      "execution_count": null,
      "metadata": {
        "id": "0x3_NTjc5mjg"
      },
      "outputs": [],
      "source": [
        "import matplotlib.pyplot as plt\n",
        "plt.figure(figsize=(15, 5))\n",
        "dataset.groupby(['order_month'])['gmv'].sum().plot()\n",
        "plt.title('Monthly GMV Year 2019')\n",
        "plt.xlabel('Order Month')\n",
        "plt.ylabel('Total GMV')\n",
        "plt.show()"
      ]
    },
    {
      "cell_type": "markdown",
      "metadata": {
        "id": "F1inHjL45nMN"
      },
      "source": [
        "# [Kustomisasi Title and Axis Labels](https://academy.dqlab.id/main/livecode/164/314/1462?pr=0)"
      ]
    },
    {
      "cell_type": "code",
      "execution_count": null,
      "metadata": {
        "id": "vksFE_B45vSq"
      },
      "outputs": [],
      "source": [
        "import matplotlib.pyplot as plt\n",
        "plt.figure(figsize=(15, 5))\n",
        "dataset.groupby(['order_month'])['gmv'].sum().plot()\n",
        "plt.title('Monthly GMV Year 2019', loc='center', pad=20, fontsize=20, color='blue')\n",
        "plt.xlabel('Order Month', fontsize=15)\n",
        "plt.ylabel('Total Amount', fontsize=15)\n",
        "plt.show()"
      ]
    },
    {
      "cell_type": "markdown",
      "metadata": {
        "id": "eDaF-X305v_E"
      },
      "source": [
        "# [Kustomisasi Line dan Point](https://academy.dqlab.id/main/livecode/164/314/1464?pr=0)"
      ]
    },
    {
      "cell_type": "code",
      "execution_count": null,
      "metadata": {
        "id": "YkyIB8yu53Y5"
      },
      "outputs": [],
      "source": [
        "import matplotlib.pyplot as plt\n",
        "plt.figure(figsize=(15, 5))\n",
        "dataset.groupby(['order_month'])['gmv'].sum().plot(color='green', marker='o', linestyle='-.', linewidth=2)\n",
        "plt.title('Monthly GMV Year 2019', loc='center', pad=20, fontsize=20, color='blue')\n",
        "plt.xlabel('Order Month', fontsize=15)\n",
        "plt.ylabel('Total Amount', fontsize=15)\n",
        "plt.show()"
      ]
    },
    {
      "cell_type": "markdown",
      "metadata": {
        "id": "gPBrvvyL54IX"
      },
      "source": [
        "# [Kustomisasi Grid](https://academy.dqlab.id/main/livecode/164/314/2396?pr=0)"
      ]
    },
    {
      "cell_type": "code",
      "execution_count": null,
      "metadata": {
        "id": "fulcH28W5_4T"
      },
      "outputs": [],
      "source": [
        "import matplotlib.pyplot as plt\n",
        "plt.figure(figsize=(15, 5))\n",
        "dataset.groupby(['order_month'])['gmv'].sum().plot(color='green', marker='o', linestyle='-.', linewidth=2)\n",
        "plt.title('Monthly GMV Year 2019', loc='center', pad=20, fontsize=20, color='blue')\n",
        "plt.xlabel('Order Month', fontsize=15)\n",
        "plt.ylabel('Total Amount', fontsize=15)\n",
        "plt.grid(color='darkgray', linestyle=':', linewidth=0.5)\n",
        "plt.show()"
      ]
    },
    {
      "cell_type": "markdown",
      "metadata": {
        "id": "EyAfCfYO7Yfd"
      },
      "source": [
        "# [Kustomisasi Axis Ticks](https://academy.dqlab.id/main/livecode/164/315/1467?pr=0)"
      ]
    },
    {
      "cell_type": "code",
      "execution_count": null,
      "metadata": {
        "id": "v1sIOO8t7ekn"
      },
      "outputs": [],
      "source": [
        "import matplotlib.pyplot as plt\n",
        "plt.figure(figsize=(15, 5))\n",
        "dataset.groupby(['order_month'])['gmv'].sum().plot(color='green', marker='o', linestyle='-.', linewidth=2)\n",
        "plt.title('Monthly GMV Year 2019', loc='center', pad=20, fontsize=20, color='blue')\n",
        "plt.xlabel('Order Month', fontsize=15)\n",
        "plt.ylabel('Total Amount (in Billions)', fontsize=15)\n",
        "plt.grid(color='darkgray', linestyle=':', linewidth=0.5)\n",
        "labels, locations = plt.yticks()\n",
        "plt.yticks(labels, (labels/1000000000).astype(int))\n",
        "plt.show()"
      ]
    },
    {
      "cell_type": "markdown",
      "metadata": {
        "id": "hrHHXhi_7fhR"
      },
      "source": [
        "# [Menentukan Batas Minimum dan Maksimum Axis Ticks](https://academy.dqlab.id/main/livecode/164/315/1468?pr=0)"
      ]
    },
    {
      "cell_type": "code",
      "execution_count": null,
      "metadata": {
        "id": "9StK1tUF7m9X"
      },
      "outputs": [],
      "source": [
        "import matplotlib.pyplot as plt\n",
        "plt.figure(figsize=(15, 5))\n",
        "dataset.groupby(['order_month'])['gmv'].sum().plot(color='green', marker='o', linestyle='-.', linewidth=2)\n",
        "plt.title('Monthly GMV Year 2019', loc='center', pad=20, fontsize=20, color='blue')\n",
        "plt.xlabel('Order Month', fontsize=15)\n",
        "plt.ylabel('Total Amount (in Billions)', fontsize=15)\n",
        "plt.grid(color='darkgray', linestyle=':', linewidth=0.5)\n",
        "plt.ylim(ymin=0)\n",
        "labels, locations = plt.yticks()\n",
        "plt.yticks(labels, (labels/1000000000).astype(int))\n",
        "plt.show()"
      ]
    },
    {
      "cell_type": "markdown",
      "metadata": {
        "id": "fbaYw57V7peP"
      },
      "source": [
        "# [Menambahkan Informasi Pada Plot](https://academy.dqlab.id/main/livecode/164/315/1470?pr=0)"
      ]
    },
    {
      "cell_type": "code",
      "execution_count": null,
      "metadata": {
        "id": "IcKDWkWc7wRa"
      },
      "outputs": [],
      "source": [
        "import matplotlib.pyplot as plt\n",
        "fig = plt.figure(figsize=(15, 5))\n",
        "dataset.groupby(['order_month'])['gmv'].sum().plot(color='green', marker='o', linestyle='-.', linewidth=2)\n",
        "plt.title('Monthly GMV Year 2019', loc='center', pad=20, fontsize=20, color='blue')\n",
        "plt.xlabel('Order Month', fontsize=15)\n",
        "plt.ylabel('Total Amount (in Billions)', fontsize=15)\n",
        "plt.grid(color='darkgray', linestyle=':', linewidth=0.5)\n",
        "plt.ylim(ymin=0)\n",
        "labels, locations = plt.yticks()\n",
        "plt.yticks(labels, (labels/1000000000).astype(int))\n",
        "plt.text(0.45, 0.72, 'The GMV increased significantly on October 2019', transform=fig.transFigure, color='red')\n",
        "plt.show()"
      ]
    },
    {
      "cell_type": "markdown",
      "metadata": {
        "id": "ABmRqkkZ7xJK"
      },
      "source": [
        "# [Menyimpan Hasil Plot Menjadi File Image](https://academy.dqlab.id/main/livecode/164/315/1472?pr=0)"
      ]
    },
    {
      "cell_type": "code",
      "execution_count": null,
      "metadata": {
        "id": "5B6CFCE474lh"
      },
      "outputs": [],
      "source": [
        "import matplotlib.pyplot as plt\n",
        "fig = plt.figure(figsize=(15, 5))\n",
        "dataset.groupby(['order_month'])['gmv'].sum().plot(color='green', marker='o', linestyle='-.', linewidth=2)\n",
        "plt.title('Monthly GMV Year 2019', loc='center', pad=20, fontsize=20, color='blue')\n",
        "plt.xlabel('Order Month', fontsize=15)\n",
        "plt.ylabel('Total Amount (in Billions)', fontsize=15)\n",
        "plt.grid(color='darkgray', linestyle=':', linewidth=0.5)\n",
        "plt.ylim(ymin=0)\n",
        "labels, locations = plt.yticks()\n",
        "plt.yticks(labels, (labels/1000000000).astype(int))\n",
        "plt.text(0.45,0.72, 'The GMV increased significantly on October 2019', transform=fig.transFigure, color='red')\n",
        "plt.savefig('monthly_gmv.png')\n",
        "plt.show()"
      ]
    },
    {
      "cell_type": "markdown",
      "metadata": {
        "id": "SLMcKZf775pB"
      },
      "source": [
        "# [Pengaturan Parameter untuk Menyimpan Gambar](https://academy.dqlab.id/main/livecode/164/315/1473?pr=0)"
      ]
    },
    {
      "cell_type": "code",
      "execution_count": null,
      "metadata": {
        "id": "u92UIisC8BAJ"
      },
      "outputs": [],
      "source": [
        "import matplotlib.pyplot as plt\n",
        "fig = plt.figure(figsize=(15, 5))\n",
        "dataset.groupby(['order_month'])['gmv'].sum().plot(color='green', marker='o', linestyle='-.', linewidth=2)\n",
        "plt.title('Monthly GMV Year 2019', loc='center', pad=20, fontsize=20, color='blue')\n",
        "plt.xlabel('Order Month', fontsize=15)\n",
        "plt.ylabel('Total Amount (in Billions)', fontsize=15)\n",
        "plt.grid(color='darkgray', linestyle=':', linewidth=0.5)\n",
        "plt.ylim(ymin=0)\n",
        "labels, locations = plt.yticks()\n",
        "plt.yticks(labels, (labels/1000000000).astype(int))\n",
        "plt.text(0.45,0.72, 'The GMV increased significantly on October 2019', transform=fig.transFigure, color='red')\n",
        "plt.savefig('monthly_gmv.png', quality=95)\n",
        "plt.show()"
      ]
    },
    {
      "cell_type": "markdown",
      "metadata": {
        "id": "I-fw-3aP8IiS"
      },
      "source": [
        "# [Studi Kasus dari Senja: Daily number of customers on Desember](https://academy.dqlab.id/main/livecode/164/316/1477?pr=0)"
      ]
    },
    {
      "cell_type": "code",
      "execution_count": null,
      "metadata": {
        "id": "4lL5GMk38OeH"
      },
      "outputs": [],
      "source": [
        "# Import library yang dibutuhkan\n",
        "import datetime\n",
        "import pandas as pd\n",
        "import matplotlib.pyplot as plt\n",
        "# Baca dataset https://storage.googleapis.com/dqlab-dataset/retail_raw_reduced.csv\n",
        "dataset = pd.read_csv('https://storage.googleapis.com/dqlab-dataset/retail_raw_reduced.csv')\n",
        "# Buat kolom order_month\n",
        "dataset['order_month'] = dataset['order_date'].apply(lambda x: datetime.datetime.strptime(x, \"%Y-%m-%d\").strftime('%Y-%m'))\n",
        "# Buat kolom gmv\n",
        "dataset['gmv'] = dataset['item_price'] * dataset['quantity']\n",
        "# Plot grafik sesuai dengan instruksi\n",
        "plt.figure(figsize=(10, 5))\n",
        "dataset[dataset['order_month']=='2019-12'].groupby(['order_date'])['customer_id'].nunique().plot(color='red', marker='.', linewidth=2)\n",
        "plt.title('Daily Number of Customers - December 2019', loc='left', pad=20, fontsize=20, color='orange')\n",
        "plt.xlabel('Order Date', fontsize=15, color='blue')\n",
        "plt.ylabel('Number of Customers', fontsize=15, color='blue')\n",
        "plt.grid(color='darkgray', linestyle=':', linewidth=0.5)\n",
        "plt.ylim(ymin=0)\n",
        "plt.show()"
      ]
    }
  ],
  "metadata": {
    "colab": {
      "name": "Data Visualization with Python Matplotlib for Beginner - Part 1.ipynb",
      "private_outputs": true,
      "provenance": []
    },
    "kernelspec": {
      "display_name": "Python 3",
      "name": "python3"
    },
    "language_info": {
      "name": "python"
    }
  },
  "nbformat": 4,
  "nbformat_minor": 0
}
