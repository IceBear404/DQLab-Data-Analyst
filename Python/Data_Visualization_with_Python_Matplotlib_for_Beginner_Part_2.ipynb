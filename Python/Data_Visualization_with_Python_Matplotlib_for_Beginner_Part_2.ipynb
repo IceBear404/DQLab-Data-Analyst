{
  "nbformat": 4,
  "nbformat_minor": 0,
  "metadata": {
    "colab": {
      "name": "Data Visualization with Python Matplotlib for Beginner - Part 2.ipynb",
      "private_outputs": true,
      "provenance": []
    },
    "kernelspec": {
      "name": "python3",
      "display_name": "Python 3"
    },
    "language_info": {
      "name": "python"
    }
  },
  "cells": [
    {
      "cell_type": "markdown",
      "metadata": {
        "id": "P2RBQd8c9V0B"
      },
      "source": [
        "# [Membuat Multi-Line Chart](https://academy.dqlab.id/main/livecode/165/318/1483?pr=0)"
      ]
    },
    {
      "cell_type": "code",
      "metadata": {
        "id": "YJjFe4su9a7V"
      },
      "source": [
        "# Import library\n",
        "import datetime\n",
        "import pandas as pd\n",
        "import matplotlib.pyplot as plt\n",
        "# Baca dataset\n",
        "dataset = pd.read_csv('https://storage.googleapis.com/dqlab-dataset/retail_raw_reduced.csv')\n",
        "# Buat kolom baru yang bertipe datetime dalam format '%Y-%m'\n",
        "dataset['order_month'] = dataset['order_date'].apply(lambda x: datetime.datetime.strptime(x, \"%Y-%m-%d\").strftime('%Y-%m'))\n",
        "# Buat Kolom GMV\n",
        "dataset['gmv'] = dataset['item_price']*dataset['quantity']\n",
        "\n",
        "# Buat Multi-Line Chart\n",
        "dataset.groupby(['order_month', 'brand'])['gmv'].sum().unstack().plot()\n",
        "plt.title('Monthly GMV Year 2019 - Breakdown by Brand', loc='center', pad=30, fontsize=20, color='blue')\n",
        "plt.xlabel('Order Month', fontsize=15)\n",
        "plt.ylabel('Total Amount (in Billions)', fontsize=15)\n",
        "plt.grid(color='darkgray', linestyle=':', linewidth=0.5)\n",
        "plt.ylim(ymin=0)\n",
        "labels, locations = plt.yticks()\n",
        "plt.yticks(labels, (labels/1000000000).astype(int))\n",
        "plt.gcf().set_size_inches(10, 5)\n",
        "plt.tight_layout()\n",
        "plt.show()"
      ],
      "execution_count": null,
      "outputs": []
    },
    {
      "cell_type": "markdown",
      "metadata": {
        "id": "dU3scGtL9byn"
      },
      "source": [
        "# [Kustomisasi Legend](https://academy.dqlab.id/main/livecode/165/318/1484?pr=0)"
      ]
    },
    {
      "cell_type": "code",
      "metadata": {
        "id": "EdC-rNtW9j6S"
      },
      "source": [
        "import matplotlib.pyplot as plt\n",
        "dataset.groupby(['order_month','brand'])['gmv'].sum().unstack().plot()\n",
        "plt.title('Monthly GMV Year 2019 - Breakdown by Brand',loc='center',pad=30, fontsize=20, color='blue')\n",
        "plt.xlabel('Order Month', fontsize = 15)\n",
        "plt.ylabel('Total Amount (in Billions)',fontsize = 15)\n",
        "plt.grid(color='darkgray', linestyle=':', linewidth=0.5)\n",
        "plt.ylim(ymin=0)\n",
        "labels, locations = plt.yticks()\n",
        "plt.yticks(labels, (labels/1000000000).astype(int))\n",
        "plt.legend(loc='right', bbox_to_anchor=(1.6, 0.5), shadow=True, ncol=2)\n",
        "plt.gcf().set_size_inches(12, 5)\n",
        "plt.tight_layout()\n",
        "plt.show()"
      ],
      "execution_count": null,
      "outputs": []
    },
    {
      "cell_type": "markdown",
      "metadata": {
        "id": "xSHNvJdV9ktB"
      },
      "source": [
        "# [Kustomisasi Colormap](https://academy.dqlab.id/main/livecode/165/318/1486?pr=0)"
      ]
    },
    {
      "cell_type": "code",
      "metadata": {
        "id": "xNFflLeQ9sDv"
      },
      "source": [
        "import matplotlib.pyplot as plt\n",
        "plt.clf()\n",
        "dataset.groupby(['order_month', 'province'])['gmv'].sum().unstack().plot(cmap='Set1')\n",
        "plt.title('Monthly GMV Year 2019 - Breakdown by Province', loc='center', pad=30, fontsize=20, color='blue')\n",
        "plt.xlabel('Order Month', fontsize = 15)\n",
        "plt.ylabel('Total Amount (in Billions)', fontsize=15)\n",
        "plt.grid(color='darkgray', linestyle=':', linewidth=0.5)\n",
        "plt.ylim(ymin=0)\n",
        "labels, locations = plt.yticks()\n",
        "plt.yticks(labels, (labels/1000000000).astype(int))\n",
        "plt.legend(loc='lower center', bbox_to_anchor=(0.5,-0.5), shadow=True, ncol=3, title='Province', fontsize=9, title_fontsize=11)\n",
        "plt.gcf().set_size_inches(10, 5)\n",
        "plt.tight_layout()\n",
        "plt.show()"
      ],
      "execution_count": null,
      "outputs": []
    },
    {
      "cell_type": "markdown",
      "metadata": {
        "id": "iiVo5oDQ9tAT"
      },
      "source": [
        "# [Membuat Line Chart GMV Breakdown by Top Provinces](https://academy.dqlab.id/main/livecode/165/318/1487?pr=0)"
      ]
    },
    {
      "cell_type": "code",
      "metadata": {
        "id": "IL01Rkao90T8"
      },
      "source": [
        "# Buat variabel untuk 5 propinsi dengan GMV tertinggi\n",
        "top_provinces = (dataset.groupby('province')['gmv']\n",
        "                        .sum()\n",
        "                        .reset_index()\n",
        "                        .sort_values(by='gmv', ascending=False)\n",
        "                        .head(5))\n",
        "print(top_provinces)\n",
        "\n",
        "# Buat satu kolom lagi di dataset dengan nama province_top\n",
        "dataset['province_top'] = dataset['province'].apply(lambda x: x if (x in top_provinces['province'].to_list()) else 'other')\n",
        "\n",
        "# Plot multi-line chartnya\n",
        "import matplotlib.pyplot as plt\n",
        "dataset.groupby(['order_month', 'province_top'])['gmv'].sum().unstack().plot(marker='.', cmap='plasma')\n",
        "plt.title('Monthly GMV Year 2019 - Breakdown by Province', loc='center', pad=30, fontsize=20, color='blue')\n",
        "plt.xlabel('Order Month', fontsize=15)\n",
        "plt.ylabel('Total Amount (in Billions)', fontsize=15)\n",
        "plt.grid(color='darkgray', linestyle=':', linewidth=0.5)\n",
        "plt.ylim(ymin=0)\n",
        "labels, locations = plt.yticks()\n",
        "plt.yticks(labels, (labels/1000000000).astype(int))\n",
        "plt.legend(loc='upper center', bbox_to_anchor=(1.1, 1), shadow=True, ncol=1)\n",
        "plt.gcf().set_size_inches(12, 5)\n",
        "plt.tight_layout()\n",
        "plt.show()"
      ],
      "execution_count": null,
      "outputs": []
    },
    {
      "cell_type": "markdown",
      "metadata": {
        "id": "jMGE-7fC91Eg"
      },
      "source": [
        "# [Membuat Anotasi](https://academy.dqlab.id/main/livecode/165/318/1489?pr=0)"
      ]
    },
    {
      "cell_type": "code",
      "metadata": {
        "id": "Mwdx9Wim98Vs"
      },
      "source": [
        "import matplotlib.pyplot as plt\n",
        "dataset.groupby(['order_month','province_top'])['gmv'].sum().unstack().plot(marker='.', cmap='plasma')\n",
        "plt.title('Monthly GMV Year 2019 - Breakdown by Province',loc='center',pad=30, fontsize=20, color='blue')\n",
        "plt.xlabel('Order Month', fontsize = 15)\n",
        "plt.ylabel('Total Amount (in Billions)',fontsize = 15)\n",
        "plt.grid(color='darkgray', linestyle=':', linewidth=0.5)\n",
        "plt.ylim(ymin=0)\n",
        "labels, locations = plt.yticks()\n",
        "plt.yticks(labels, (labels/1000000000).astype(int))\n",
        "plt.legend(loc='upper center', bbox_to_anchor=(1.1, 1), shadow=True, ncol=1)\n",
        "\n",
        "# Anotasi pertama\n",
        "plt.annotate('GMV other meningkat pesat', xy=(5, 900000000),\n",
        "\t\t\t xytext=(4, 1700000000),weight='bold',color='red',\n",
        "\t\t\t arrowprops=dict(arrowstyle='fancy',\n",
        "\t\t\t\t\t\t\t connectionstyle=\"arc3\",\n",
        "\t\t\t\t\t\t\t color='red'))\n",
        "# Anotasi kedua\n",
        "plt.annotate('DKI Jakarta mendominasi', xy=(3, 3350000000),\n",
        "\t\t\t xytext=(0, 3700000000),weight='bold',color='red',\n",
        "\t\t\t arrowprops=dict(arrowstyle='->',\n",
        "\t\t\t\t\t\t\t connectionstyle=\"angle\",\n",
        "\t\t\t\t\t\t\t color='red'))\n",
        "\n",
        "plt.gcf().set_size_inches(12, 5)\n",
        "plt.tight_layout()\n",
        "plt.show()"
      ],
      "execution_count": null,
      "outputs": []
    },
    {
      "cell_type": "markdown",
      "metadata": {
        "id": "Bv9R4DqS-ILb"
      },
      "source": [
        "# [Membuat Subset Data](https://academy.dqlab.id/main/livecode/165/319/1490?pr=0)"
      ]
    },
    {
      "cell_type": "code",
      "metadata": {
        "id": "BjxII3-v-MB5"
      },
      "source": [
        "dataset_dki_q4 = dataset[(dataset['province']=='DKI Jakarta') & (dataset['order_month'] >= '2019-10')]\n",
        "print(dataset_dki_q4.head())"
      ],
      "execution_count": null,
      "outputs": []
    },
    {
      "cell_type": "markdown",
      "metadata": {
        "id": "T1wOmETo-Pto"
      },
      "source": [
        "# [Membuat Pie Chart](https://academy.dqlab.id/main/livecode/165/319/1491?pr=0)"
      ]
    },
    {
      "cell_type": "code",
      "metadata": {
        "id": "xt9lsPge-VF9"
      },
      "source": [
        "import matplotlib.pyplot as plt\n",
        "gmv_per_city_dki_q4 = dataset_dki_q4.groupby('city')['gmv'].sum().reset_index()\n",
        "plt.figure(figsize=(6,6))\n",
        "plt.pie(gmv_per_city_dki_q4['gmv'], labels = gmv_per_city_dki_q4['city'],autopct='%1.2f%%')\n",
        "plt.title('GMV Contribution Per City - DKI Jakarta in Q4 2019',loc='center',pad=30,fontsize=15,color='blue')\n",
        "plt.show()"
      ],
      "execution_count": null,
      "outputs": []
    },
    {
      "cell_type": "markdown",
      "metadata": {
        "id": "VVOtUDEs-WHw"
      },
      "source": [
        "# [Membuat Bar Chart](https://academy.dqlab.id/main/livecode/165/319/1492?pr=0)"
      ]
    },
    {
      "cell_type": "code",
      "metadata": {
        "id": "BfFR9n3u-d7X"
      },
      "source": [
        "import matplotlib.pyplot as plt\n",
        "plt.clf()\n",
        "dataset_dki_q4.groupby('city')['gmv'].sum().sort_values(ascending=False).plot(kind='bar', color='green')\n",
        "plt.title('GMV Per City - DKI Jakarta in Q4 2019', loc='center', pad=30, fontsize=15, color='blue')\n",
        "plt.xlabel('City', fontsize=15)\n",
        "plt.ylabel('Total Amount (in Billions)', fontsize=15)\n",
        "plt.ylim(ymin=0)\n",
        "labels, locations = plt.yticks()\n",
        "plt.yticks(labels, (labels/1000000000).astype(int))\n",
        "plt.xticks(rotation=0)\n",
        "plt.show()"
      ],
      "execution_count": null,
      "outputs": []
    },
    {
      "cell_type": "markdown",
      "metadata": {
        "id": "wI-BTEmB-eom"
      },
      "source": [
        "# [Membuat Multi-Bar Chart](https://academy.dqlab.id/main/livecode/165/319/1493?pr=0)"
      ]
    },
    {
      "cell_type": "code",
      "metadata": {
        "id": "pXpmfbA7-neo"
      },
      "source": [
        "import matplotlib.pyplot as plt\n",
        "dataset_dki_q4.groupby(['city', 'order_month'])['gmv'].sum().unstack().plot(kind='bar')\n",
        "plt.title('GMV Per City, Breakdown by Month\\nDKI Jakarta in Q4 2019', loc='center', pad=30, fontsize=15, color='blue')\n",
        "plt.xlabel('Province', fontsize=12)\n",
        "plt.ylabel('Total Amount (in Billions)', fontsize=12)\n",
        "plt.legend(bbox_to_anchor=(1,1), shadow=True, title='Month')\n",
        "plt.ylim(ymin=0)\n",
        "labels, locations = plt.yticks()\n",
        "plt.yticks(labels, (labels/1000000000).astype(int))\n",
        "plt.xticks(rotation=45)\n",
        "plt.tight_layout()\n",
        "plt.show()"
      ],
      "execution_count": null,
      "outputs": []
    },
    {
      "cell_type": "markdown",
      "metadata": {
        "id": "XtnCBs8f-odY"
      },
      "source": [
        "# [Membuat Stacked Chart](https://academy.dqlab.id/main/livecode/165/319/1494?pr=0)"
      ]
    },
    {
      "cell_type": "code",
      "metadata": {
        "id": "ejGpF-Ee-wVQ"
      },
      "source": [
        "import matplotlib.pyplot as plt\n",
        "dataset_dki_q4.groupby(['order_month', 'city'])['gmv'].sum().sort_values(ascending=False).unstack().plot(kind='bar', stacked=True)\n",
        "plt.title('GMV Per Month, Breakdown by City\\nDKI Jakarta in Q4 2019', loc='center', pad=30, fontsize=15, color='blue')\n",
        "plt.xlabel('Order Month', fontsize=12)\n",
        "plt.ylabel('Total Amount (in Billions)', fontsize=12)\n",
        "plt.legend(bbox_to_anchor=(1, 1), shadow=True, ncol=1, title='City')\n",
        "plt.ylim(ymin=0)\n",
        "labels, locations = plt.yticks()\n",
        "plt.yticks(labels, (labels/1000000000).astype(int))\n",
        "plt.xticks(rotation=0)\n",
        "plt.tight_layout()\n",
        "plt.show()"
      ],
      "execution_count": null,
      "outputs": []
    },
    {
      "cell_type": "markdown",
      "metadata": {
        "id": "LTSgJq3N-2ec"
      },
      "source": [
        "# [Membuat Agregat Data Customer](https://academy.dqlab.id/main/livecode/165/320/1496?pr=0)"
      ]
    },
    {
      "cell_type": "code",
      "metadata": {
        "id": "ksEcaYaI-7wT"
      },
      "source": [
        "data_per_customer = (dataset_dki_q4.groupby('customer_id')\n",
        "                                   .agg({'order_id':'nunique', \n",
        "                                         'quantity': 'sum', \n",
        "                                         'gmv':'sum'})\n",
        "                                   .reset_index()\n",
        "                                   .rename(columns={'order_id':'orders'}))\n",
        "print(data_per_customer.sort_values(by='orders', ascending=False))"
      ],
      "execution_count": null,
      "outputs": []
    },
    {
      "cell_type": "markdown",
      "metadata": {
        "id": "w5H69mgc-85N"
      },
      "source": [
        "# [Membuat Histogram - Part 1](https://academy.dqlab.id/main/livecode/165/320/1497?pr=0)"
      ]
    },
    {
      "cell_type": "code",
      "metadata": {
        "id": "YkRhkSKP_FLo"
      },
      "source": [
        "import matplotlib.pyplot as plt\n",
        "plt.clf()\n",
        "# Histogram pertama\n",
        "plt.figure()\n",
        "plt.hist(data_per_customer['orders'])\n",
        "plt.show()\n",
        "# Histogram kedua\n",
        "plt.figure()\n",
        "plt.hist(data_per_customer['orders'], range=(1,5))\n",
        "plt.title('Distribution of Number of Orders per Customer\\nDKI Jakarta in Q4 2019', fontsize=15, color='blue')\n",
        "plt.xlabel('Number of Orders', fontsize=12)\n",
        "plt.ylabel('Number of Customers', fontsize=12)\n",
        "plt.show()"
      ],
      "execution_count": null,
      "outputs": []
    },
    {
      "cell_type": "markdown",
      "metadata": {
        "id": "QyFNQUm3_GSQ"
      },
      "source": [
        "# [Membuat Histogram - Part 2](https://academy.dqlab.id/main/livecode/165/320/1498?pr=0)"
      ]
    },
    {
      "cell_type": "code",
      "metadata": {
        "id": "iJmHGTCY_NDC"
      },
      "source": [
        "import matplotlib.pyplot as plt\n",
        "plt.figure(figsize=(10, 5))\n",
        "plt.hist(data_per_customer['quantity'], bins=100, range=(1, 200), color='brown')\n",
        "plt.title('Distribution of Total Quantity per Customer\\nDKI Jakarta in Q4 2019', fontsize=15, color='blue')\n",
        "plt.xlabel('Quantity', fontsize=12)\n",
        "plt.ylabel('Number of Customers', fontsize=12)\n",
        "plt.xlim(xmin=0, xmax=200)\n",
        "plt.show()"
      ],
      "execution_count": null,
      "outputs": []
    },
    {
      "cell_type": "markdown",
      "metadata": {
        "id": "OgXMq_0M_Nu9"
      },
      "source": [
        "# [Membuat Histogram - Part 3](https://academy.dqlab.id/main/livecode/165/320/1499?pr=0)"
      ]
    },
    {
      "cell_type": "code",
      "metadata": {
        "id": "sPxus1Qq_UtP"
      },
      "source": [
        "import matplotlib.pyplot as plt\n",
        "plt.figure(figsize=(10, 5))\n",
        "plt.hist(data_per_customer['gmv'], bins=100, range=(1, 200000000), color='green')\n",
        "plt.title('Distribution of Total GMV per Customer\\nDKI Jakarta in Q4 2019', fontsize=15, color='blue')\n",
        "plt.xlabel('GMV (in Millions)', fontsize=12)\n",
        "plt.ylabel('Number of Customers', fontsize=12)\n",
        "plt.xlim(xmin=0, xmax=200000000)\n",
        "labels, locations = plt.xticks()\n",
        "plt.xticks(labels, (labels/1000000).astype(int))\n",
        "plt.show()"
      ],
      "execution_count": null,
      "outputs": []
    },
    {
      "cell_type": "markdown",
      "metadata": {
        "id": "dGLwc_Uk_Vf4"
      },
      "source": [
        "# [Membuat Scatterplot](https://academy.dqlab.id/main/livecode/165/320/1502?pr=0)"
      ]
    },
    {
      "cell_type": "code",
      "metadata": {
        "id": "v96hsU2q_csU"
      },
      "source": [
        "import matplotlib.pyplot as plt\n",
        "plt.clf()\n",
        "\n",
        "# Scatterplot pertama\n",
        "plt.figure()\n",
        "plt.scatter(data_per_customer['quantity'], data_per_customer['gmv'])\n",
        "plt.show()\n",
        "\n",
        "# Scatterplot kedua: perbaikan scatterplot pertama\n",
        "plt.figure(figsize=(10,8))\n",
        "plt.scatter(data_per_customer['quantity'], data_per_customer['gmv'], marker='+', color='red')\n",
        "plt.title('Correlation of Quantity and GMV per Customer\\nDKI Jakarta in Q4 2019', fontsize=15, color='blue')\n",
        "plt.xlabel('Quantity', fontsize=12)\n",
        "plt.ylabel('GMV (in Millions)', fontsize=12)\n",
        "plt.xlim(xmin=0, xmax=300)\n",
        "plt.ylim(ymin=0, ymax=150000000)\n",
        "labels, locations = plt.yticks()\n",
        "plt.yticks(labels, (labels/1000000).astype(int))\n",
        "plt.show()"
      ],
      "execution_count": null,
      "outputs": []
    },
    {
      "cell_type": "markdown",
      "metadata": {
        "id": "71ofrDh6_l4M"
      },
      "source": [
        "# [Case 1: Menentukan brand top 5](https://academy.dqlab.id/main/livecode/165/321/1504?pr=0)"
      ]
    },
    {
      "cell_type": "code",
      "metadata": {
        "id": "-7kYO1cA_rHn"
      },
      "source": [
        "#mengambil informasi top 5 brands berdasarkan quantity\n",
        "top_brands = (dataset[dataset['order_month']=='2019-12'].groupby('brand')['quantity']\n",
        "                .sum()\n",
        "                .reset_index()\n",
        "                .sort_values(by='quantity',ascending=False)\n",
        "                .head(5))\n",
        "\n",
        "#membuat dataframe baru, filter hanya di bulan Desember 2019 dan hanya top 5 brands\n",
        "dataset_top5brand_dec = dataset[(dataset['order_month']=='2019-12') & (dataset['brand'].isin(top_brands['brand'].to_list()))]\n",
        "\n",
        "# print top brands\n",
        "print(top_brands)"
      ],
      "execution_count": null,
      "outputs": []
    },
    {
      "cell_type": "markdown",
      "metadata": {
        "id": "GA7r9Cn6_r4y"
      },
      "source": [
        "# [Case 2: Multi-line chart daily quantity untuk brand top 5](https://academy.dqlab.id/main/livecode/165/321/1505?pr=0)"
      ]
    },
    {
      "cell_type": "code",
      "metadata": {
        "id": "l6smuEEc_zA4"
      },
      "source": [
        "import matplotlib.pyplot as plt\n",
        "\n",
        "dataset_top5brand_dec.groupby(['order_date','brand'])['quantity'].sum().unstack().plot(marker='.', cmap='plasma')\n",
        "plt.title('Daily Sold Quantity Dec 2019 - Breakdown by Brands',loc='center',pad=30, fontsize=15, color='blue')\n",
        "plt.xlabel('Order Date', fontsize = 12)\n",
        "plt.ylabel('Quantity',fontsize = 12)\n",
        "plt.grid(color='darkgray', linestyle=':', linewidth=0.5)\n",
        "plt.ylim(ymin=0)\n",
        "plt.legend(loc='upper center', bbox_to_anchor=(1.1, 1), shadow=True, ncol=1)\n",
        "plt.annotate('Terjadi lonjakan', xy=(7, 310), xytext=(8, 300),\n",
        "             weight='bold', color='red',\n",
        "             arrowprops=dict(arrowstyle='->',\n",
        "                             connectionstyle=\"arc3\",\n",
        "                             color='red'))\n",
        "plt.gcf().set_size_inches(10, 5)\n",
        "plt.tight_layout()\n",
        "plt.show()"
      ],
      "execution_count": null,
      "outputs": []
    },
    {
      "cell_type": "markdown",
      "metadata": {
        "id": "lStHDEXs_zux"
      },
      "source": [
        "# [Case 3: Kuantitas penjualan brand top 5 selama Desember 2019](https://academy.dqlab.id/main/livecode/165/321/1506?pr=0)"
      ]
    },
    {
      "cell_type": "code",
      "metadata": {
        "id": "nWXEdCLw_8BI"
      },
      "source": [
        "import matplotlib.pyplot as plt\n",
        "plt.clf()\n",
        "dataset_top5brand_dec.groupby('brand')['product_id'].nunique().sort_values(ascending=False).plot(kind='bar', color='green')\n",
        "plt.title('Number of Sold Products per Brand, December 2019',loc='center',pad=30, fontsize=15, color='blue')\n",
        "plt.xlabel('Brand', fontsize = 15)\n",
        "plt.ylabel('Number of Products',fontsize = 15)\n",
        "plt.ylim(ymin=0)\n",
        "plt.xticks(rotation=0)\n",
        "plt.show()"
      ],
      "execution_count": null,
      "outputs": []
    },
    {
      "cell_type": "markdown",
      "metadata": {
        "id": "thCwwtpl_89l"
      },
      "source": [
        "# [Case 4: Penjulan produk diatas 100 dan dibawah 100 selama Desember 2019](https://academy.dqlab.id/main/livecode/165/321/1507?pr=0)"
      ]
    },
    {
      "cell_type": "code",
      "metadata": {
        "id": "S0Zsm97LAFMp"
      },
      "source": [
        "import matplotlib.pyplot as plt\n",
        "#membuat dataframe baru, untuk agregat jumlah quantity terjual per product\n",
        "dataset_top5brand_dec_per_product = dataset_top5brand_dec.groupby(['brand','product_id'])['quantity'].sum().reset_index()\n",
        "\n",
        "#beri kolom baru untuk menandai product yang terjual >= 100 dan <100\n",
        "dataset_top5brand_dec_per_product['quantity_group'] = dataset_top5brand_dec_per_product['quantity'].apply(lambda x: '>= 100' if x>=100 else '< 100')\n",
        "dataset_top5brand_dec_per_product.sort_values('quantity',ascending=False,inplace=True)\n",
        "\n",
        "#membuat referensi pengurutan brand berdasarkan banyaknya semua product\n",
        "s_sort = dataset_top5brand_dec_per_product.groupby('brand')['product_id'].nunique().sort_values(ascending=False)\n",
        "\n",
        "#plot stacked barchart\n",
        "dataset_top5brand_dec_per_product.groupby(['brand','quantity_group'])['product_id'].nunique().reindex(index=s_sort.index, level='brand').unstack().plot(kind='bar', stacked=True)\n",
        "plt.title('Number of Sold Products per Brand, December 2019',loc='center',pad=30, fontsize=15, color='blue')\n",
        "plt.xlabel('Brand', fontsize = 15)\n",
        "plt.ylabel('Number of Products',fontsize = 15)\n",
        "plt.ylim(ymin=0)\n",
        "plt.xticks(rotation=0)\n",
        "plt.show()"
      ],
      "execution_count": null,
      "outputs": []
    },
    {
      "cell_type": "markdown",
      "metadata": {
        "id": "9wdIJKFeAF5b"
      },
      "source": [
        "# [Case 5: Murah atau mahalkah harga produk brand top 5](https://academy.dqlab.id/main/livecode/165/321/1508?pr=0)"
      ]
    },
    {
      "cell_type": "code",
      "metadata": {
        "id": "rl3hJXTZAPRQ"
      },
      "source": [
        "import matplotlib.pyplot as plt\n",
        "plt.figure(figsize=(10,5))\n",
        "plt.hist(dataset_top5brand_dec.groupby('product_id')['item_price'].median(), bins=10, stacked=True, range=(1,2000000), color='green')\n",
        "plt.title('Distribution of Price Median per Product\\nTop 5 Brands in Dec 2019',fontsize=15, color='blue')\n",
        "plt.xlabel('Price Median', fontsize = 12)\n",
        "plt.ylabel('Number of Products',fontsize = 12)\n",
        "plt.xlim(xmin=0,xmax=2000000)\n",
        "plt.show()"
      ],
      "execution_count": null,
      "outputs": []
    },
    {
      "cell_type": "markdown",
      "metadata": {
        "id": "e5RDJTrpAP_W"
      },
      "source": [
        "# [Case 6a: Korelasi quantity vs GMV](https://academy.dqlab.id/main/livecode/165/321/1509?pr=0)"
      ]
    },
    {
      "cell_type": "code",
      "metadata": {
        "id": "0_Oki06RAWoW"
      },
      "source": [
        "import matplotlib.pyplot as plt\n",
        "#agregat per product\n",
        "data_per_product_top5brand_dec = dataset_top5brand_dec.groupby('product_id').agg({'quantity': 'sum', 'gmv':'sum', 'item_price':'median'}).reset_index()\n",
        "\n",
        "#scatter plot\n",
        "plt.figure(figsize=(10,8))\n",
        "plt.scatter(data_per_product_top5brand_dec['quantity'],data_per_product_top5brand_dec['gmv'], marker='+', color='red')\n",
        "plt.title('Correlation of Quantity and GMV per Product\\nTop 5 Brands in December 2019',fontsize=15, color='blue')\n",
        "plt.xlabel('Quantity', fontsize = 12)\n",
        "plt.ylabel('GMV (in Millions)',fontsize = 12)\n",
        "plt.xlim(xmin=0,xmax=300)\n",
        "plt.ylim(ymin=0,ymax=200000000)\n",
        "labels, locations = plt.yticks()\n",
        "plt.yticks(labels, (labels/1000000).astype(int))\n",
        "plt.show()"
      ],
      "execution_count": null,
      "outputs": []
    },
    {
      "cell_type": "markdown",
      "metadata": {
        "id": "nMBOkqNVAXn2"
      },
      "source": [
        "# [Case 6b: Korelasi median harga vs quantity](https://academy.dqlab.id/main/livecode/165/321/2403?pr=0)"
      ]
    },
    {
      "cell_type": "code",
      "metadata": {
        "id": "Vc7rqqUuAe5x"
      },
      "source": [
        "import matplotlib.pyplot as plt\n",
        "plt.clf()\n",
        "#agregat per product\n",
        "data_per_product_top5brand_dec = dataset_top5brand_dec.groupby('product_id').agg({'quantity': 'sum', 'gmv':'sum', 'item_price':'median'}).reset_index()\n",
        "\n",
        "#scatter plot\n",
        "plt.figure(figsize=(10,8))\n",
        "plt.scatter(data_per_product_top5brand_dec['item_price'],data_per_product_top5brand_dec['quantity'], marker='o', color='green')\n",
        "plt.title('Correlation of Quantity and GMV per Product\\nTop 5 Brands in December 2019',fontsize=15, color='blue')\n",
        "plt.xlabel('Price Median', fontsize = 12)\n",
        "plt.ylabel('Quantity',fontsize = 12)\n",
        "plt.xlim(xmin=0,xmax=2000000)\n",
        "plt.ylim(ymin=0,ymax=250)\n",
        "plt.show()"
      ],
      "execution_count": null,
      "outputs": []
    }
  ]
}