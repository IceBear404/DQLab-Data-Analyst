{
  "nbformat": 4,
  "nbformat_minor": 0,
  "metadata": {
    "colab": {
      "name": "Exploratory Data Analysis with PYTHON for Beginner.ipynb",
      "private_outputs": true,
      "provenance": []
    },
    "kernelspec": {
      "name": "python3",
      "display_name": "Python 3"
    },
    "language_info": {
      "name": "python"
    }
  },
  "cells": [
    {
      "cell_type": "markdown",
      "metadata": {
        "id": "LTQc5nvFyeGw"
      },
      "source": [
        "## [Memanggil library di Python](https://academy.dqlab.id/main/livecode/163/308/1418?pr=0)"
      ]
    },
    {
      "cell_type": "code",
      "metadata": {
        "id": "BbtnP5Mcx7xP"
      },
      "source": [
        "import numpy as np\n",
        "import pandas as pd"
      ],
      "execution_count": null,
      "outputs": []
    },
    {
      "cell_type": "markdown",
      "metadata": {
        "id": "FZ1BUzPqywCx"
      },
      "source": [
        "## [Tugas Praktek-2.1](https://academy.dqlab.id/main/livecode/163/309/1420?pr=0)"
      ]
    },
    {
      "cell_type": "code",
      "metadata": {
        "id": "T_mbElSTy69v"
      },
      "source": [
        "import pandas as pd\n",
        "order_df = pd.read_csv(\"https://storage.googleapis.com/dqlab-dataset/order.csv\")"
      ],
      "execution_count": null,
      "outputs": []
    },
    {
      "cell_type": "markdown",
      "metadata": {
        "id": "HzFc75VPy79t"
      },
      "source": [
        "## [Tugas Praktek-2.2](https://academy.dqlab.id/main/livecode/163/309/1423?pr=0)"
      ]
    },
    {
      "cell_type": "code",
      "metadata": {
        "id": "tlBce0xvzHfP"
      },
      "source": [
        "import pandas as pd\n",
        "order_df = pd.read_csv(\"https://storage.googleapis.com/dqlab-dataset/order.csv\")\n",
        "print(order_df.shape)"
      ],
      "execution_count": null,
      "outputs": []
    },
    {
      "cell_type": "markdown",
      "metadata": {
        "id": "fT8ayJc8zIJF"
      },
      "source": [
        "## [Tugas Praktek-2.3](https://academy.dqlab.id/main/livecode/163/309/1425?pr=0)"
      ]
    },
    {
      "cell_type": "code",
      "metadata": {
        "id": "3s1bIbj0zWb9"
      },
      "source": [
        "import pandas as pd\n",
        "order_df = pd.read_csv(\"https://storage.googleapis.com/dqlab-dataset/order.csv\")\n",
        "print(order_df.head(10))"
      ],
      "execution_count": null,
      "outputs": []
    },
    {
      "cell_type": "markdown",
      "metadata": {
        "id": "4lyc1MGjzW1p"
      },
      "source": [
        "## [Tugas Praktek-2.4](https://academy.dqlab.id/main/livecode/163/309/1430?pr=0)"
      ]
    },
    {
      "cell_type": "code",
      "metadata": {
        "id": "Zuxvg1lZzg8t"
      },
      "source": [
        "import pandas as pd\n",
        "order_df = pd.read_csv(\"https://storage.googleapis.com/dqlab-dataset/order.csv\")\n",
        "# Quick summary  dari segi kuantitas, harga, freight value, dan weight\n",
        "print(order_df.describe())\n",
        "# Median median dari total pembelian konsumen per transaksi kolom price\n",
        "print(order_df.loc[:, \"price\"].median())"
      ],
      "execution_count": null,
      "outputs": []
    },
    {
      "cell_type": "markdown",
      "metadata": {
        "id": "9MuNguMS1L2X"
      },
      "source": [
        "## [Tugas Praktek-3.1](https://academy.dqlab.id/main/livecode/163/310/1432?pr=0)"
      ]
    },
    {
      "cell_type": "code",
      "metadata": {
        "id": "gSDSIx7-1V9r"
      },
      "source": [
        "import pandas as pd\n",
        "import matplotlib.pyplot as plt\n",
        "order_df = pd.read_csv(\"https://storage.googleapis.com/dqlab-dataset/order.csv\")\n",
        "# plot histogram kolom: price\n",
        "order_df[[\"price\"]].hist(figsize=(4, 5), bins=10, xlabelsize=8, ylabelsize=8)\n",
        "plt.show()  # Untuk menampilkan histogram plot"
      ],
      "execution_count": null,
      "outputs": []
    },
    {
      "cell_type": "markdown",
      "metadata": {
        "id": "SvUhePpD1W1v"
      },
      "source": [
        "## [Tugas Praktek-3.2](https://academy.dqlab.id/main/livecode/163/310/1434?pr=0)"
      ]
    },
    {
      "cell_type": "code",
      "metadata": {
        "id": "K2ZgwPyG1g9V"
      },
      "source": [
        "import pandas as pd\n",
        "order_df = pd.read_csv(\"https://storage.googleapis.com/dqlab-dataset/order.csv\")\n",
        "# Standar variasi kolom product_weight_gram\n",
        "order_df.loc[:, \"product_weight_gram\"].std()\n",
        "# Varians kolom product_weight_gram\n",
        "order_df.loc[:, \"product_weight_gram\"].var()"
      ],
      "execution_count": null,
      "outputs": []
    },
    {
      "cell_type": "markdown",
      "metadata": {
        "id": "ztCwfegu1iCV"
      },
      "source": [
        "## [Tugas Praktek-3.3](https://academy.dqlab.id/main/livecode/163/310/1436?pr=0)"
      ]
    },
    {
      "cell_type": "code",
      "metadata": {
        "id": "GCobydwC1rUn"
      },
      "source": [
        "import pandas as pd\n",
        "order_df = pd.read_csv(\"https://storage.googleapis.com/dqlab-dataset/order.csv\")\n",
        "# Hitung quartile 1\n",
        "Q1 = order_df[[\"product_weight_gram\"]].quantile(0.25)\n",
        "# Hitung quartile 3\n",
        "Q3 = order_df[[\"product_weight_gram\"]].quantile(0.75)\n",
        "# Hitung inter quartile range dan cetak ke console\n",
        "IQR = Q3 - Q1\n",
        "print(IQR)"
      ],
      "execution_count": null,
      "outputs": []
    },
    {
      "cell_type": "markdown",
      "metadata": {
        "id": "rJzErn-s1sl3"
      },
      "source": [
        "## [Tugas Praktek-3.4](https://academy.dqlab.id/main/livecode/163/310/1438?pr=0)"
      ]
    },
    {
      "cell_type": "code",
      "metadata": {
        "id": "zUZIvHEJ19QJ"
      },
      "source": [
        "import pandas as pd\n",
        "order_df = pd.read_csv(\"https://storage.googleapis.com/dqlab-dataset/order.csv\")\n",
        "# Ganti nama kolom freight_value menjadi shipping_cost\n",
        "order_df.rename(columns={\"freight_value\": \"shipping_cost\"}, inplace=True)\n",
        "print(order_df)"
      ],
      "execution_count": null,
      "outputs": []
    },
    {
      "cell_type": "markdown",
      "metadata": {
        "id": "fL6vRbXE2A6U"
      },
      "source": [
        "## [Tugas Praktek-3.5](https://academy.dqlab.id/main/livecode/163/310/1440?pr=0)"
      ]
    },
    {
      "cell_type": "code",
      "metadata": {
        "id": "3Oy7IwnS2KD2"
      },
      "source": [
        "import pandas as pd\n",
        "order_df = pd.read_csv(\"https://storage.googleapis.com/dqlab-dataset/order.csv\")\n",
        "# Hitung rata rata dari price per payment_type\n",
        "rata_rata = order_df[\"price\"].groupby(order_df[\"payment_type\"]).mean()\n",
        "print(rata_rata)"
      ],
      "execution_count": null,
      "outputs": []
    },
    {
      "cell_type": "markdown",
      "metadata": {
        "id": "5SVcjRTg2NWB"
      },
      "source": [
        "## [Tugas Praktek-3.6](https://academy.dqlab.id/main/livecode/163/310/1442?pr=0)"
      ]
    },
    {
      "cell_type": "code",
      "metadata": {
        "id": "KLeZyaTo2W35"
      },
      "source": [
        "import pandas as pd\n",
        "order_df = pd.read_csv(\"https://storage.googleapis.com/dqlab-dataset/order.csv\")\n",
        "# Hitung harga maksimum pembelian customer\n",
        "sort_harga = order_df.sort_values(by=\"price\", ascending=False)\n",
        "print(sort_harga)"
      ],
      "execution_count": null,
      "outputs": []
    },
    {
      "cell_type": "markdown",
      "metadata": {
        "id": "rXLxjJse2dKr"
      },
      "source": [
        "## [Tugas dari Andra](https://academy.dqlab.id/main/livecode/163/311/1444?pr=0)"
      ]
    },
    {
      "cell_type": "code",
      "metadata": {
        "id": "lkmf2Ph_2ixR"
      },
      "source": [
        "import pandas as pd\n",
        "import matplotlib.pyplot as plt\n",
        "order_df = pd.read_csv(\"https://storage.googleapis.com/dqlab-dataset/order.csv\")\n",
        "\n",
        "# Median price yang dibayar customer dari masing-masing metode pembayaran. \n",
        "median_price = order_df[\"price\"].groupby(order_df[\"payment_type\"]).median()\n",
        "print(median_price)\n",
        "\n",
        "# Ubah freight_value menjadi shipping_cost dan cari shipping_cost \n",
        "# termahal dari data penjualan tersebut menggunakan sort.\n",
        "order_df.rename(columns={\"freight_value\": \"shipping_cost\"}, inplace=True)\n",
        "sort_value = order_df.sort_values(by=\"shipping_cost\", ascending=0)\n",
        "print(sort_value)\n",
        "\n",
        "# Untuk product_category_name, berapa  rata-rata weight produk tersebut \n",
        "# dan standar deviasi mana yang terkecil dari weight tersebut, \n",
        "mean_value = order_df[\"product_weight_gram\"].groupby(order_df[\"product_category_name\"]).mean()\n",
        "print(mean_value.sort_values())\n",
        "std_value = order_df[\"product_weight_gram\"].groupby(order_df[\"product_category_name\"]).std()\n",
        "print(std_value.sort_values())\n",
        "\n",
        "# Buat histogram quantity penjualan dari dataset tersebutuntuk melihat persebaran quantity \n",
        "# penjualan tersebut dengan bins = 5 dan figsize= (4,5)\n",
        "order_df[[\"quantity\"]].hist(figsize=(4, 5), bins=5)\n",
        "plt.show()"
      ],
      "execution_count": null,
      "outputs": []
    }
  ]
}
