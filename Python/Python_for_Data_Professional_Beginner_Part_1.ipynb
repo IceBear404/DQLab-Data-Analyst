{
  "nbformat": 4,
  "nbformat_minor": 0,
  "metadata": {
    "colab": {
      "name": "Python for Data Professional Beginner - Part 1.ipynb",
      "private_outputs": true,
      "provenance": [],
      "toc_visible": true
    },
    "kernelspec": {
      "name": "python3",
      "display_name": "Python 3"
    },
    "language_info": {
      "name": "python"
    },
    "accelerator": "GPU"
  },
  "cells": [
    {
      "cell_type": "markdown",
      "metadata": {
        "id": "Xr_j15NmM6rq"
      },
      "source": [
        "# [Program pertama: \"Hello World\"](https://academy.dqlab.id/main/livecode/157/283/1247?pr=0)"
      ]
    },
    {
      "cell_type": "code",
      "metadata": {
        "id": "vxA01qKzOrvk"
      },
      "source": [
        "print(\"Hello World!\")"
      ],
      "execution_count": null,
      "outputs": []
    },
    {
      "cell_type": "markdown",
      "metadata": {
        "id": "b_lI1eqiM_K1"
      },
      "source": [
        "# [Program Pertamaku](https://academy.dqlab.id/main/livecode/157/283/1248?pr=0)"
      ]
    },
    {
      "cell_type": "code",
      "metadata": {
        "id": "mIdn6GFfQKMu"
      },
      "source": [
        "print(\"Halo Dunia\")\n",
        "print(\"Riset Bahasa Python\")"
      ],
      "execution_count": null,
      "outputs": []
    },
    {
      "cell_type": "markdown",
      "metadata": {
        "id": "EMaFdv5wQX4C"
      },
      "source": [
        "# [Struktur Program Python - Part 1](https://academy.dqlab.id/main/livecode/157/283/1249?pr=0)"
      ]
    },
    {
      "cell_type": "code",
      "metadata": {
        "id": "KiB1mL_IQ0lI"
      },
      "source": [
        "# Statement\n",
        "print(\"Belajar Python menyenangkan\") \n",
        "print(\"Halo Dunia\")\n",
        "print(\"Hello World!\")\n",
        "# Variables & Literals\n",
        "bilangan1 = 5\n",
        "bilangan2 = 10\n",
        "kalimat1 = \"Belajar Bahasa Python\"\n",
        "# Operators\n",
        "print(bilangan1 + bilangan2)"
      ],
      "execution_count": null,
      "outputs": []
    },
    {
      "cell_type": "markdown",
      "metadata": {
        "id": "CjitTYcxRLpI"
      },
      "source": [
        "# [Tugas Praktek-1.1](https://academy.dqlab.id/main/livecode/157/283/1250?pr=0)"
      ]
    },
    {
      "cell_type": "code",
      "metadata": {
        "id": "6mvBUq3rRjM_"
      },
      "source": [
        "bilangan1  = 20\n",
        "bilangan2  = 10\n",
        "print(bilangan1 - bilangan2 )"
      ],
      "execution_count": null,
      "outputs": []
    },
    {
      "cell_type": "markdown",
      "metadata": {
        "id": "qsCH0x0YR8NB"
      },
      "source": [
        "# [Tugas Praktek-1.2](https://academy.dqlab.id/main/livecode/157/283/1251?pr=0)"
      ]
    },
    {
      "cell_type": "code",
      "metadata": {
        "id": "loZZ8S50SH60"
      },
      "source": [
        "harga_asli = 20000\n",
        "potongan = 2000\n",
        "harga_setelah_potongan = harga_asli-potongan\n",
        "harga_final = harga_setelah_potongan*1.1\n",
        "print(harga_final)"
      ],
      "execution_count": null,
      "outputs": []
    },
    {
      "cell_type": "markdown",
      "metadata": {
        "id": "8b5WE2hiVJ_D"
      },
      "source": [
        "# [Sequence Type – Part 1](https://academy.dqlab.id/main/livecode/157/284/1262?pr=null)"
      ]
    },
    {
      "cell_type": "code",
      "metadata": {
        "id": "uQITNQgGVdvq"
      },
      "source": [
        "contoh_list = [1,'dua',3,4.0,5]\n",
        "print(contoh_list[0])\n",
        "print(contoh_list[3])\n",
        "contoh_list = [1,'dua',3,4.0,5]\n",
        "contoh_list[3] = 'empat'\n",
        "print(contoh_list[3])"
      ],
      "execution_count": null,
      "outputs": []
    },
    {
      "cell_type": "markdown",
      "metadata": {
        "id": "b-eewPFPVrHg"
      },
      "source": [
        "# [Sequence Type – Part 2](https://academy.dqlab.id/main/livecode/157/284/1263?pr=null)"
      ]
    },
    {
      "cell_type": "code",
      "metadata": {
        "id": "f8aVVaUEV0Hx"
      },
      "source": [
        "contoh_tuple = ('Januari','Pebruari','Maret','April')\n",
        "print(contoh_tuple[0])\n",
        "contoh_tuple = ('Januari','Pebruari','Maret','April')\n",
        "contoh_tuple[0] = \"Desember\""
      ],
      "execution_count": null,
      "outputs": []
    },
    {
      "cell_type": "markdown",
      "metadata": {
        "id": "70GUnhiJW-KW"
      },
      "source": [
        "# [Set Type](https://academy.dqlab.id/main/livecode/157/284/1264?pr=null)"
      ]
    },
    {
      "cell_type": "code",
      "metadata": {
        "id": "hyfkT55vXGqq"
      },
      "source": [
        "contoh_list = ['Dewi','Budi','Cici','Linda','Cici'] \n",
        "print(contoh_list)\n",
        "contoh_set = {'Dewi','Budi','Cici','Linda','Cici'}\n",
        "print(contoh_set)\n",
        "contoh_frozen_set = ({'Dewi','Budi','Cici','Linda','Cici'})\n",
        "print(contoh_frozen_set)"
      ],
      "execution_count": null,
      "outputs": []
    },
    {
      "cell_type": "markdown",
      "metadata": {
        "id": "4jPnclZ8XLW4"
      },
      "source": [
        "# [Mapping Type](https://academy.dqlab.id/main/livecode/157/284/1265?pr=null)"
      ]
    },
    {
      "cell_type": "code",
      "metadata": {
        "id": "jzVHD-CEXUL_"
      },
      "source": [
        "person = {'nama':'John Doe', 'pekerjaan':'Programmer'}\n",
        "print(person['nama'])\n",
        "print(person['pekerjaan'])"
      ],
      "execution_count": null,
      "outputs": []
    },
    {
      "cell_type": "markdown",
      "metadata": {
        "id": "RvqL-7FmXlml"
      },
      "source": [
        "# [Tugas Praktek-2.1](https://academy.dqlab.id/main/livecode/157/284/1266?pr=null)"
      ]
    },
    {
      "cell_type": "code",
      "metadata": {
        "id": "aEjxROqhXy8D"
      },
      "source": [
        "sepatu = {\"nama\": \"Sepatu Niko\", \"harga\": 150000, \"diskon\": 30000}\n",
        "baju = {\"nama\": \"Baju Unikloh\", \"harga\": 80000, \"diskon\": 8000}\n",
        "celana = {\"nama\": \"Celana Lepis\", \"harga\": 200000, \"diskon\": 60000}"
      ],
      "execution_count": null,
      "outputs": []
    },
    {
      "cell_type": "markdown",
      "metadata": {
        "id": "qL-D5Mt1X27g"
      },
      "source": [
        "# [Tugas Praktek-2.2](https://academy.dqlab.id/main/livecode/157/284/1267?pr=null)"
      ]
    },
    {
      "cell_type": "code",
      "metadata": {
        "id": "hmKGsF93X_Rq"
      },
      "source": [
        "sepatu = {\"nama\": \"Sepatu Niko\", \"harga\": 150000, \"diskon\": 30000} \n",
        "baju = {\"nama\": \"Baju Unikloh\", \"harga\": 80000, \"diskon\": 8000} \n",
        "celana = {\"nama\": \"Celana Lepis\", \"harga\": 200000, \"diskon\": 60000} \n",
        "daftar_belanja = [sepatu,baju,celana]"
      ],
      "execution_count": null,
      "outputs": []
    },
    {
      "cell_type": "markdown",
      "metadata": {
        "id": "yn-PA1tFYEP8"
      },
      "source": [
        "# [Tugas Praktek-2.3](https://academy.dqlab.id/main/livecode/157/284/1268?pr=null)"
      ]
    },
    {
      "cell_type": "code",
      "metadata": {
        "id": "mLDEQpnTYMSi"
      },
      "source": [
        "# Data yang dinyatakan ke dalam dictionary\n",
        "sepatu = {\"nama\": \"Sepatu Niko\", \"harga\": 150000, \"diskon\": 30000} \n",
        "baju = {\"nama\": \"Baju Unikloh\", \"harga\": 80000, \"diskon\": 8000} \n",
        "celana = {\"nama\": \"Celana Lepis\", \"harga\": 200000, \"diskon\": 60000}\n",
        "# Hitunglah harga masing-masing data setelah dikurangi diskon\n",
        "harga_sepatu = sepatu[\"harga\"] - sepatu[\"diskon\"] \n",
        "harga_baju = baju[\"harga\"] - baju[\"diskon\"]\n",
        "harga_celana = celana[\"harga\"] - celana[\"diskon\"]\n",
        "# Hitung harga total\n",
        "total_harga = harga_sepatu + harga_baju + harga_celana\n",
        "# Hitung harga kena pajak\n",
        "total_pajak = total_harga * 0.1\n",
        "# Cetak total_harga + total_pajak\n",
        "print(total_harga+total_pajak)"
      ],
      "execution_count": null,
      "outputs": []
    },
    {
      "cell_type": "markdown",
      "metadata": {
        "id": "a-EK2ckVYk42"
      },
      "source": [
        "# [Nilai Prioritas Operator dalam Python – Part 1](https://academy.dqlab.id/main/livecode/157/293/1295?pr=null)"
      ]
    },
    {
      "cell_type": "code",
      "metadata": {
        "id": "sV0977chYqW-"
      },
      "source": [
        "# Kode awal\n",
        "total_harga = 150000\n",
        "potongan_harga = 0.3\n",
        "pajak = 0.1 # pajak dalam persen ~ 10%\n",
        "harga_bayar = 1-0.3 # baris pertama\n",
        "harga_bayar *= total_harga # baris kedua\n",
        "pajak_bayar = pajak * harga_bayar # baris ketiga\n",
        "harga_bayar += pajak_bayar # baris ke-4\n",
        "print(\"Kode awal - harga_bayar=\", harga_bayar)\n",
        "# Penyederhanaan baris kode dengan menerapkan prioritas operator\n",
        "total_harga = 150000\n",
        "potongan_harga = 0.3\n",
        "pajak = 0.1 # pajak dalam persen ~ 10%\n",
        "harga_bayar = (1-0.3) * total_harga #baris pertama \n",
        "harga_bayar += harga_bayar * pajak # baris kedua\n",
        "print(\"Penyederhanaan kode - harga_bayar=\", harga_bayar)"
      ],
      "execution_count": null,
      "outputs": []
    },
    {
      "cell_type": "markdown",
      "metadata": {
        "id": "ITANxvJ1YtFJ"
      },
      "source": [
        "# [Tugas Praktek-3.1](https://academy.dqlab.id/main/livecode/157/293/1298?pr=null)"
      ]
    },
    {
      "cell_type": "code",
      "metadata": {
        "id": "_Dah3DdTY8EF"
      },
      "source": [
        "sepatu = { \"nama\" : \"Sepatu Niko\", \"harga\": 150000, \"diskon\": 30000 }\n",
        "baju = { \"nama\" : \"Baju Unikloh\", \"harga\": 80000, \"diskon\": 8000 }\n",
        "celana = { \"nama\" : \"Celana Lepis\", \"harga\": 200000, \"diskon\": 60000 }\n",
        "harga_sepatu = sepatu[\"harga\"] - sepatu[\"diskon\"]\n",
        "harga_baju = baju[\"harga\"] - baju[\"diskon\"]\n",
        "harga_celana = celana[\"harga\"] - celana[\"diskon\"]\n",
        "total_harga = (harga_sepatu+harga_baju+harga_celana) * 1.1 \n",
        "print(total_harga)"
      ],
      "execution_count": null,
      "outputs": []
    },
    {
      "cell_type": "markdown",
      "metadata": {
        "id": "KzNtqsMUZMNE"
      },
      "source": [
        "# [Python Conditioning for Decision – Part 2](https://academy.dqlab.id/main/livecode/157/294/1300)"
      ]
    },
    {
      "cell_type": "code",
      "metadata": {
        "id": "mXH3INEVZRQa"
      },
      "source": [
        "# Statement if\n",
        "x = 4\n",
        "if x % 2 == 0: # jika sisa bagi x dengan 2 sama dengan 0\n",
        "    print(\"x habis dibagi DUA\") # statemen aksi lebih menjorok ke dalam\n",
        "# Statement if ... elif ... else\n",
        "x = 7\n",
        "if x % 2 == 0: # jika sisa bagi x dengan 2 sama dengan 0\n",
        "    print(\"x habis dibagi DUA\")\n",
        "elif x % 3 == 0: # jika sisa bagi x dengan 3 sama dengan 0\n",
        "    print(\"x habis dibagi TIGA\")\n",
        "elif x % 5 == 0: # jika sisa bagi x dengan 5 sama dengan 0\n",
        "    print(\"x habis dibagi LIMA\")\n",
        "else:\n",
        "    print(\"x TIDAK HABIS dibagi DUA, TIGA ataupun LIMA\")"
      ],
      "execution_count": null,
      "outputs": []
    },
    {
      "cell_type": "markdown",
      "metadata": {
        "id": "G8mzlg1TZVRM"
      },
      "source": [
        "# [Python Conditioning for Decision – Part 3](https://academy.dqlab.id/main/livecode/157/294/1301?pr=null)"
      ]
    },
    {
      "cell_type": "code",
      "metadata": {
        "id": "jWoxqO3wZfmi"
      },
      "source": [
        "jam = 13\n",
        "if jam >=5 and jam < 12: # selama jam di antara 5 s.d. 12\n",
        "    print(\"Selamat pagi!\")\n",
        "elif jam >=12 and jam < 17: # selama jam di antara 12 s.d. 17\n",
        "    print(\"Selamat siang!\")\n",
        "elif jam >=17 and jam < 19: # selama jam di antara 17 s.d. 19\n",
        "    print(\"Selamat sore!\")\n",
        "else: # selain kondisi di atas\n",
        "    print(\"Selamat malam!\")"
      ],
      "execution_count": null,
      "outputs": []
    },
    {
      "cell_type": "markdown",
      "metadata": {
        "id": "W_A1MaXDaAO-"
      },
      "source": [
        "# [Tugas Praktek-4.1](https://academy.dqlab.id/main/livecode/157/294/1302?pr=null)"
      ]
    },
    {
      "cell_type": "code",
      "metadata": {
        "id": "t5ZXmYvLaN0o"
      },
      "source": [
        "tagihan_ke = 'Mr. Yoyo'\n",
        "warehousing = { 'harga_harian': 1000000, 'total_hari':15 } \n",
        "cleansing = { 'harga_harian': 1500000, 'total_hari':10 } \n",
        "integration = { 'harga_harian':2000000, 'total_hari':15 } \n",
        "transform = { 'harga_harian':2500000, 'total_hari':10 }\n",
        "sub_warehousing = warehousing ['harga_harian']* warehousing ['total_hari']\n",
        "sub_cleansing = cleansing ['harga_harian']* cleansing ['total_hari'] \n",
        "sub_integration = integration ['harga_harian']* integration ['total_hari'] \n",
        "sub_transform = transform ['harga_harian']* transform ['total_hari']\n",
        "total_harga = sub_warehousing + sub_cleansing + sub_integration + sub_transform\n",
        "print(\"Tagihan kepada:\") \n",
        "print(tagihan_ke)\n",
        "print(\"Selamat pagi, anda harus membayar tagihan sebesar:\") \n",
        "print(total_harga)"
      ],
      "execution_count": null,
      "outputs": []
    },
    {
      "cell_type": "markdown",
      "metadata": {
        "id": "e1ZuNpbpaRIa"
      },
      "source": [
        "# [Tugas Praktek-4.2](https://academy.dqlab.id/main/livecode/157/294/1303?pr=null)"
      ]
    },
    {
      "cell_type": "code",
      "metadata": {
        "id": "nPFngt2maY8Q"
      },
      "source": [
        "jam = 17\n",
        "tagihan_ke = 'Mr. Yoyo'\n",
        "warehousing = { 'harga_harian': 1000000, 'total_hari':15 } \n",
        "cleansing = { 'harga_harian': 1500000, 'total_hari':10 } \n",
        "integration = { 'harga_harian':2000000, 'total_hari':15 } \n",
        "transform = { 'harga_harian':2500000, 'total_hari':10 }\n",
        "sub_warehousing = warehousing['harga_harian']*warehousing['total_hari'] \n",
        "sub_cleansing = cleansing['harga_harian']*cleansing['total_hari'] \n",
        "sub_integration = integration['harga_harian']*integration['total_hari'] \n",
        "sub_transform = transform['harga_harian']*transform['total_hari']\n",
        "total_harga = sub_warehousing+sub_cleansing+sub_integration+sub_transform\n",
        "print(\"Tagihan kepada:\")\n",
        "print(tagihan_ke)\n",
        "if jam > 19 :\n",
        "    print(\"Selamat malam, anda harus membayar tagihan sebesar:\")\n",
        "elif jam > 17 :\n",
        "    print(\"Selamat sore, anda harus membayar tagihan sebesar:\") \n",
        "elif jam > 12 :\n",
        "    print(\"Selamat siang, anda harus membayar tagihan sebesar:\")\n",
        "else:\n",
        "    print(\"Selamat pagi, anda harus membayar tagihan sebesar:\") \n",
        "print(total_harga)"
      ],
      "execution_count": null,
      "outputs": []
    },
    {
      "cell_type": "markdown",
      "metadata": {
        "id": "VsFo9Z4dao_m"
      },
      "source": [
        "# [Python while loops – Part 1](https://academy.dqlab.id/main/livecode/157/294/1305?pr=null)"
      ]
    },
    {
      "cell_type": "code",
      "metadata": {
        "id": "2WcjSQDsawgN"
      },
      "source": [
        "# Tagihan\n",
        "tagihan = [50000, 75000, 125000, 300000, 200000]\n",
        "# Tanpa menggunakan while loop\n",
        "total_tagihan = tagihan[0] + tagihan[1] + tagihan[2] + tagihan[3] + tagihan[4] \n",
        "print(total_tagihan)\n",
        "# Dengan menggunakan while loop\n",
        "i = 0 # sebuah variabel untuk mengakses setiap elemen tagihan satu per satu\n",
        "jumlah_tagihan = len(tagihan) # panjang (jumlah elemen dalam) list tagihan\n",
        "total_tagihan = 0 # mula-mula, set total_tagihan ke 0\n",
        "while i < jumlah_tagihan: # selama nilai i kurang dari jumlah_tagihan\n",
        "    total_tagihan += tagihan[i] # tambahkan tagihan[i] ke total_tagihan\n",
        "    i += 1 # tambahkan nilai i dengan 1 untuk memproses tagihan selanjutnya.\n",
        "print(total_tagihan)"
      ],
      "execution_count": null,
      "outputs": []
    },
    {
      "cell_type": "markdown",
      "metadata": {
        "id": "2IjxWQu7az3q"
      },
      "source": [
        "# [Python while loops – Part 2](https://academy.dqlab.id/main/livecode/157/294/1306?pr=null)"
      ]
    },
    {
      "cell_type": "code",
      "metadata": {
        "id": "lq-Mr6Kka7G-"
      },
      "source": [
        "tagihan = [50000, 75000, -150000, 125000, 300000, -50000, 200000]\n",
        "i = 0\n",
        "jumlah_tagihan = len(tagihan)\n",
        "total_tagihan = 0\n",
        "while i < jumlah_tagihan:\n",
        "# jika terdapat tagihan ke-i yang bernilai minus (di bawah nol),\n",
        "# pengulangan akan dihentikan\n",
        "    if tagihan[i] < 0:\n",
        "        total_tagihan = -1\n",
        "        print(\"terdapat angka minus dalam tagihan, perhitungan dihentikan!\")\n",
        "        break\n",
        "    total_tagihan += tagihan[i]\n",
        "    i += 1\n",
        "print(total_tagihan)"
      ],
      "execution_count": null,
      "outputs": []
    },
    {
      "cell_type": "markdown",
      "metadata": {
        "id": "216wxJO9bCV1"
      },
      "source": [
        "# [Python while loops – Part 3](https://academy.dqlab.id/main/livecode/157/294/1307?pr=null)"
      ]
    },
    {
      "cell_type": "code",
      "metadata": {
        "id": "T8FrN0ysbJC3"
      },
      "source": [
        "tagihan = [50000, 75000, -150000, 125000, 300000, -50000, 200000]\n",
        "i = 0\n",
        "jumlah_tagihan = len(tagihan)\n",
        "total_tagihan = 0\n",
        "while i < jumlah_tagihan:\n",
        "# jika terdapat tagihan ke-i yang bernilai minus (di bawah nol),\n",
        "# abaikan tagihan ke-i dan lanjutkan ke tagihan berikutnya\n",
        "    if tagihan[i] < 0:\n",
        "        i += 1\n",
        "        continue\n",
        "    total_tagihan += tagihan[i]\n",
        "    i += 1\n",
        "print(total_tagihan)"
      ],
      "execution_count": null,
      "outputs": []
    },
    {
      "cell_type": "markdown",
      "metadata": {
        "id": "1thJHiOXbV6s"
      },
      "source": [
        "# [Python for loops – Part 1](https://academy.dqlab.id/main/livecode/157/294/1308?pr=null)"
      ]
    },
    {
      "cell_type": "code",
      "metadata": {
        "id": "o4REnATtbb8r"
      },
      "source": [
        "list_tagihan = [50000, 75000, -150000, 125000, 300000, -50000, 200000]\n",
        "total_tagihan = 0\n",
        "for tagihan in list_tagihan: # untuk setiap tagihan dalam list_tagihan\n",
        "    total_tagihan += tagihan # tambahkan tagihan ke total_tagihan\n",
        "print(total_tagihan)"
      ],
      "execution_count": null,
      "outputs": []
    },
    {
      "cell_type": "markdown",
      "metadata": {
        "id": "UfxO7k1ebfbf"
      },
      "source": [
        "# [Python for loops – Part 2](https://academy.dqlab.id/main/livecode/157/294/1309?pr=null)"
      ]
    },
    {
      "cell_type": "code",
      "metadata": {
        "id": "L7Nl3K7Fbmws"
      },
      "source": [
        "list_tagihan = [50000, 75000, -150000, 125000, 300000, -50000, 200000]\n",
        "total_tagihan = 0\n",
        "for tagihan in list_tagihan:\n",
        "    if tagihan < 0:\n",
        "        print(\"terdapat angka minus dalam tagihan, perhitungan dihentikan!\")\n",
        "        break\n",
        "    total_tagihan += tagihan\n",
        "print(total_tagihan)"
      ],
      "execution_count": null,
      "outputs": []
    },
    {
      "cell_type": "markdown",
      "metadata": {
        "id": "hIbdOXs2bqP2"
      },
      "source": [
        "# [Python for loops – Part 3](https://academy.dqlab.id/main/livecode/157/294/1310?pr=null)"
      ]
    },
    {
      "cell_type": "code",
      "metadata": {
        "id": "6rY7W9jRbySU"
      },
      "source": [
        "list_daerah = ['Malang', 'Palembang', 'Medan']\n",
        "list_buah = ['Apel', 'Duku', 'Jeruk']\n",
        "for nama_daerah in list_daerah:\n",
        "    for nama_buah in list_buah:\n",
        "        print(nama_buah+\" \"+nama_daerah)"
      ],
      "execution_count": null,
      "outputs": []
    },
    {
      "cell_type": "markdown",
      "metadata": {
        "id": "2RXrU70Qb2bU"
      },
      "source": [
        "# [Tugas Praktek-4.3](https://academy.dqlab.id/main/livecode/157/294/1311?pr=null)"
      ]
    },
    {
      "cell_type": "code",
      "metadata": {
        "id": "Aufc9bk6cHUt"
      },
      "source": [
        "list_cash_flow = [\n",
        "2500000, 5000000, -1000000, -2500000, 5000000, 10000000,\n",
        "-5000000, 7500000, 10000000, -1500000, 25000000, -2500000\n",
        "]\n",
        "total_pengeluaran, total_pemasukan = 0, 0\n",
        "for dana in list_cash_flow:\n",
        "    if dana > 0:\n",
        "        total_pemasukan += dana\n",
        "    else:\n",
        "        total_pengeluaran += dana \n",
        "total_pengeluaran *= -1\n",
        "print(total_pengeluaran) \n",
        "print(total_pemasukan)"
      ],
      "execution_count": null,
      "outputs": []
    },
    {
      "cell_type": "markdown",
      "metadata": {
        "id": "LREzMj81cJ03"
      },
      "source": [
        "# [Ekspedisi Pamanku](https://academy.dqlab.id/main/livecode/157/295/1313?pr=0)"
      ]
    },
    {
      "cell_type": "code",
      "metadata": {
        "id": "459YLkmqcsdK"
      },
      "source": [
        "# Data\n",
        "uang_jalan = 1500000\n",
        "jumlah_hari = 31\n",
        "list_plat_nomor = [8993, 2198, 2501, 2735, 3772, 4837, 9152]\n",
        "# Pengecekan kendaraan dengan nomor pelat ganjil atau genap \n",
        "# Deklarasikan kendaraan_genap dan kendaraan_ganjil = 0\n",
        "kendaraan_genap = 0 \n",
        "kendaraan_ganjil = 0\n",
        "for plat_nomor in list_plat_nomor:\n",
        "    if plat_nomor%2 == 0:\n",
        "        kendaraan_genap += 1 \n",
        "    else:\n",
        "        kendaraan_ganjil += 1\n",
        "# Total pengeluaran untuk kendaraan dengan nomor pelat ganjil \n",
        "# dan genap dalam 1 bulan\n",
        "i = 1\n",
        "total_pengeluaran = 0\n",
        "while i <= jumlah_hari:\n",
        "    if i % 2 == 0:\n",
        "        total_pengeluaran += (kendaraan_genap*uang_jalan) \n",
        "    else:\n",
        "        total_pengeluaran += (kendaraan_ganjil*uang_jalan)  \n",
        "    i += 1\n",
        "# Cetak total pengeluaran\n",
        "print(total_pengeluaran)"
      ],
      "execution_count": null,
      "outputs": []
    }
  ]
}