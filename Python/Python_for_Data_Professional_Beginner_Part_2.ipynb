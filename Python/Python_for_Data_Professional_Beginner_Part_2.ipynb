{
  "nbformat": 4,
  "nbformat_minor": 0,
  "metadata": {
    "colab": {
      "name": "Python for Data Professional Beginner - Part 2.ipynb",
      "private_outputs": true,
      "provenance": []
    },
    "kernelspec": {
      "name": "python3",
      "display_name": "Python 3"
    },
    "language_info": {
      "name": "python"
    }
  },
  "cells": [
    {
      "cell_type": "markdown",
      "metadata": {
        "id": "e4TPU3L8guaV"
      },
      "source": [
        "# [Mengakses List dan Tuple – Part 1](https://academy.dqlab.id/main/livecode/160/296/1315?pr=0)"
      ]
    },
    {
      "cell_type": "code",
      "metadata": {
        "id": "tw6nYGZ_gQIH"
      },
      "source": [
        "bulan_pembelian = ('Januari','Februari','Maret','April','Mei','Juni','Juli','Agustus', 'September','Oktober','November','Desember')\n",
        "print(bulan_pembelian[0])\n",
        "print(bulan_pembelian[5])\n",
        "print(bulan_pembelian[-1])\n",
        "print(bulan_pembelian[-2])"
      ],
      "execution_count": null,
      "outputs": []
    },
    {
      "cell_type": "markdown",
      "metadata": {
        "id": "HfCp0cCGg_mI"
      },
      "source": [
        "# [Mengakses List dan Tuple – Part 2](https://academy.dqlab.id/main/livecode/160/296/1316?pr=0)"
      ]
    },
    {
      "cell_type": "code",
      "metadata": {
        "id": "z7FJ2ZPkhF9f"
      },
      "source": [
        "bulan_pembelian = ('Januari','Februari','Maret','April','Mei','Juni','Juli','Agustus', 'September','Oktober','November','Desember')\n",
        "pertengahan_tahun = bulan_pembelian [4:8]\n",
        "print(pertengahan_tahun)\n",
        "awal_tahun = bulan_pembelian [:5]\n",
        "print(awal_tahun)\n",
        "akhir_tahun = bulan_pembelian [8:]\n",
        "print(akhir_tahun)\n",
        "print(bulan_pembelian[-4:-1])"
      ],
      "execution_count": null,
      "outputs": []
    },
    {
      "cell_type": "markdown",
      "metadata": {
        "id": "I6bP1TBnhIk8"
      },
      "source": [
        "# [Penggabungan Dua atau Lebih List atau Tuple](https://academy.dqlab.id/main/livecode/160/296/1317?pr=0)"
      ]
    },
    {
      "cell_type": "code",
      "metadata": {
        "id": "8y1Xz85shXkb"
      },
      "source": [
        "list_makanan = ['Gado-gado','Ayam Goreng','Rendang']\n",
        "list_minuman = ['Es Teh','Es Jeruk','Es Campur']\n",
        "list_menu = list_makanan + list_minuman\n",
        "print (list_menu)"
      ],
      "execution_count": null,
      "outputs": []
    },
    {
      "cell_type": "markdown",
      "metadata": {
        "id": "RHZu2rFVhYbI"
      },
      "source": [
        "# [List Manipulation – Part 1](https://academy.dqlab.id/main/livecode/160/296/1319?pr=0)"
      ]
    },
    {
      "cell_type": "code",
      "metadata": {
        "id": "qFhi-7s8hgiT"
      },
      "source": [
        "# Fitur .append()\n",
        "print(\">>> Fitur .append()\")\n",
        "list_makanan = ['Gado-gado', 'Ayam Goreng', 'Rendang']\n",
        "list_makanan.append('Ketoprak')\n",
        "print(list_makanan)\n",
        "# Fitur .clear()\n",
        "print(\">>> Fitur .clear()\")\n",
        "list_makanan = ['Gado-gado', 'Ayam Goreng', 'Rendang']\n",
        "list_makanan.clear()\n",
        "print(list_makanan)\n",
        "# Fitur .copy()\n",
        "print(\">>> Fitur .copy()\")\n",
        "list_makanan1 = ['Gado-gado', 'Ayam Goreng', 'Rendang']\n",
        "list_makanan2 = list_makanan1.copy()\n",
        "list_makanan3 = list_makanan1\n",
        "list_makanan2.append('Opor')\n",
        "list_makanan3.append('Ketoprak')\n",
        "print(list_makanan1)\n",
        "print(list_makanan2)\n",
        "# Fitur .count()\n",
        "print(\">>> Fitur .count()\")\n",
        "list_score = ['Budi', 'Sud', 'Budi', 'Budi', 'Budi', 'Sud', 'Sud']\n",
        "score_budi = list_score.count('Budi')\n",
        "score_sud = list_score.count('Sud')\n",
        "print(score_budi) # akan menampilkan output 4\n",
        "print(score_sud) # akan menampilkan output 3\n",
        "# Fitur .extend()\n",
        "print(\">>> Fitur .extend()\")\n",
        "list_menu = ['Gado-gado', 'Ayam Goreng', 'Rendang']\n",
        "list_minuman = ['Es Teh', 'Es Jeruk', 'Es Campur']\n",
        "list_menu.extend(list_minuman)\n",
        "print(list_menu)"
      ],
      "execution_count": null,
      "outputs": []
    },
    {
      "cell_type": "markdown",
      "metadata": {
        "id": "DbsY0lc5hhb6"
      },
      "source": [
        "# [List Manipulation – Part 2](https://academy.dqlab.id/main/livecode/160/296/1320?pr=0)"
      ]
    },
    {
      "cell_type": "code",
      "metadata": {
        "id": "jtGvA1zshp5i"
      },
      "source": [
        "# Fitur .index()\n",
        "print(\">>> Fitur .index()\")\n",
        "list_score = ['Budi','Sud','Budi','Budi','Budi','Sud','Sud']\n",
        "score_pertama_sud = list_score.index('Sud') + 1\n",
        "print(score_pertama_sud) # akan menampilkan output 2\n",
        "# Fitur .insert()\n",
        "print(\">>> Fitur .insert()\")\n",
        "list_score = ['Budi','Sud','Budi','Budi','Sud']\n",
        "list_score.insert(3, 'Sud')\n",
        "print(list_score)\n",
        "# Fitur .pop()\n",
        "print(\">>> Fitur .pop()\")\n",
        "list_menu = ['Gado-gado', 'Ayam Goreng', 'Rendang']\n",
        "list_menu.pop(1)\n",
        "print(list_menu)\n",
        "# Fitur .remove()\n",
        "print(\">>> Fitur .remove()\")\n",
        "list_menu = ['Gado-gado', 'Ayam Goreng', 'Rendang', 'Ketoprak']\n",
        "list_menu.remove('Rendang')\n",
        "print(list_menu)\n",
        "# Fitur .reverse()\n",
        "print(\">>> Fitur .reverse()\")\n",
        "list_menu = ['Gado-gado', 'Ayam Goreng', 'Rendang', 'Ketoprak']\n",
        "list_menu.reverse()\n",
        "print(list_menu)\n",
        "# Fitur .sort()\n",
        "print(\">>> Fitur .sort()\")\n",
        "list_menu = ['Gado-gado', 'Ayam Goreng', 'Rendang', 'Ketoprak']\n",
        "list_menu.sort() # Default: Ascending\n",
        "print(list_menu) \n",
        "list_menu.sort(reverse=True)# Descending\n",
        "print(list_menu) "
      ],
      "execution_count": null,
      "outputs": []
    },
    {
      "cell_type": "markdown",
      "metadata": {
        "id": "h6sxP_vrhtx7"
      },
      "source": [
        "# [Tuple Manipulation](https://academy.dqlab.id/main/livecode/160/296/1321?pr=0)"
      ]
    },
    {
      "cell_type": "code",
      "metadata": {
        "id": "oBqAfMVEh2r-"
      },
      "source": [
        "# Fitur .count()\n",
        "print(\">>> Fitur .count()\")\n",
        "tuple_score = ('Budi', 'Sud', 'Budi', 'Budi', 'Budi', 'Sud', 'Sud')\n",
        "score_budi = tuple_score.count('Budi')\n",
        "score_sud = tuple_score.count('Sud')\n",
        "print(score_budi) # akan menampilkan output 4\n",
        "print(score_sud) # akan menampilkan output 3\n",
        "# Fitur .index()\n",
        "print(\">>> Fitur .index()\")\n",
        "tuple_score = ('Budi','Sud','Budi','Budi','Budi','Sud','Sud')\n",
        "score_pertama_sud = tuple_score.index('Sud')+1\n",
        "print(score_pertama_sud) # akan menampilkan output 2"
      ],
      "execution_count": null,
      "outputs": []
    },
    {
      "cell_type": "markdown",
      "metadata": {
        "id": "VOEL_j-Zh8DM"
      },
      "source": [
        "# [Set Manipulation – Part 1](https://academy.dqlab.id/main/livecode/160/296/1323?pr=0)"
      ]
    },
    {
      "cell_type": "code",
      "metadata": {
        "id": "CYAektXHiEAq"
      },
      "source": [
        "# Fitur .add()\n",
        "print(\">>> Fitur .add()\")\n",
        "set_buah = {'Jeruk','Apel','Anggur'}\n",
        "set_buah.add('Melon')\n",
        "print(set_buah)\n",
        "# Fitur .clear()\n",
        "print(\">>> Fitur .clear()\")\n",
        "set_buah = {'Jeruk','Apel','Anggur'}\n",
        "set_buah.clear()\n",
        "print(set_buah)\n",
        "# Fitur .copy()\n",
        "print(\">>> Fitur .copy()\")\n",
        "set_buah1 = {'Jeruk','Apel','Anggur'}\n",
        "set_buah2 = set_buah1\n",
        "set_buah3 = set_buah1.copy()\n",
        "set_buah2.add('Melon')\n",
        "set_buah3.add('Kiwi')\n",
        "print(set_buah1)\n",
        "print(set_buah2)\n",
        "# Fitur .update()\n",
        "print(\">>> Fitur .update()\")\n",
        "parcel1 = {'Anggur','Apel','Jeruk'}\n",
        "parcel2 = {'Apel','Kiwi','Melon'}\n",
        "parcel1.update(parcel2)\n",
        "print(parcel1)\n",
        "# Fitur .pop()\n",
        "print(\">>> Fitur .pop()\")\n",
        "parcel = {'Anggur','Apel','Jeruk'}\n",
        "buah = parcel.pop()\n",
        "print(buah)\n",
        "print(parcel)\n",
        "# Fitur .remove()\n",
        "print(\">>> Fitur .remove()\")\n",
        "parcel = {'Anggur','Apel','Jeruk'}\n",
        "parcel.remove('Apel')\n",
        "print(parcel)"
      ],
      "execution_count": null,
      "outputs": []
    },
    {
      "cell_type": "markdown",
      "metadata": {
        "id": "2v5QlUx4iGKE"
      },
      "source": [
        "# [Set Manipulation – Part 2](https://academy.dqlab.id/main/livecode/160/296/1324?pr=0)"
      ]
    },
    {
      "cell_type": "code",
      "metadata": {
        "id": "WLoMZ-ORiQaY"
      },
      "source": [
        "# Fitur .union()\n",
        "print(\">>> Fitur .union()\")\n",
        "parcel1 = {'Anggur','Apel','Jeruk'}\n",
        "parcel2 = {'Apel','Kiwi','Melon'}\n",
        "parcel3 = parcel1.union(parcel2)\n",
        "print(parcel1)\n",
        "print(parcel3)\n",
        "# Fitur .isdisjoint()\n",
        "print(\">>> Fitur .isdisjoint()\")\n",
        "parcel1 = {'Anggur','Apel','Jeruk'}\n",
        "parcel2 = {'Kiwi','Melon','Pisang'}\n",
        "parcel3 = {'Apel','Srikaya','Semangka'}\n",
        "parcel1_parcel2_disjoint = parcel1.isdisjoint(parcel2)\n",
        "print(parcel1_parcel2_disjoint)\n",
        "parcel1_parcel3_disjoint = parcel1.isdisjoint(parcel3)\n",
        "print(parcel1_parcel3_disjoint)\n",
        "# Fitur .issubset()\n",
        "print(\">>> Fitur .issubset()\")\n",
        "parcel_A = {'Anggur', 'Apel'}\n",
        "parcel_B = {'Durian','Semangka','Apel'}\n",
        "parcel_C = {'Anggur', 'Kiwi', 'Apel', 'Jeruk', 'Melon'}\n",
        "parcel_A_dalam_C = parcel_A.issubset(parcel_C)\n",
        "parcel_B_dalam_C = parcel_B.issubset(parcel_C)\n",
        "print(parcel_A_dalam_C)\n",
        "print(parcel_B_dalam_C)\n",
        "# Fitur .issuperset()\n",
        "print(\">>> Fitur .issuperset()\")\n",
        "parcel_C_mengandung_A = parcel_C.issuperset(parcel_A)\n",
        "parcel_C_mengandung_B = parcel_C.issuperset(parcel_B)\n",
        "print(parcel_C_mengandung_A)\n",
        "print(parcel_C_mengandung_B)\n",
        "# Fitur .intersection()\n",
        "print(\">>> Fitur .intersection()\")\n",
        "parcel_A = {'Anggur', 'Kiwi', 'Apel', 'Jeruk', 'Melon'}\n",
        "parcel_B = {'Apel', 'Jeruk', 'Semangka', 'Durian', 'Tomat'}\n",
        "parcel_C = parcel_A.intersection(parcel_B)\n",
        "print(parcel_C)\n",
        "# Fitur .difference()\n",
        "print(\">>> Fitur .difference()\")\n",
        "parcel_C = parcel_A.difference(parcel_B)\n",
        "print(parcel_C)\n",
        "# Fitur .symmetric_difference()\n",
        "print(\">>> Fitur .symmetric_difference()\")\n",
        "parcel_A = {'Anggur', 'Apel', 'Jeruk', 'Melon'}\n",
        "parcel_B = {'Apel','Jeruk','Semangka','Leci'}\n",
        "parcel_C = parcel_A.symmetric_difference(parcel_B)\n",
        "print(parcel_C)"
      ],
      "execution_count": null,
      "outputs": []
    },
    {
      "cell_type": "markdown",
      "metadata": {
        "id": "x_b4cMUqiYRA"
      },
      "source": [
        "# [Dictionary Manipulation](https://academy.dqlab.id/main/livecode/160/296/1326?pr=0)"
      ]
    },
    {
      "cell_type": "code",
      "metadata": {
        "id": "nulhijPHicY8"
      },
      "source": [
        "# Fitur .clear()\n",
        "print(\">>> Fitur .clear()\")\n",
        "info_karyawan = {'nama' : 'Aksara',\n",
        "'nik' : '1211011',\n",
        "'pekerjaan' : 'Data Analyst'}\n",
        "info_karyawan.clear()\n",
        "print(info_karyawan)\n",
        "# Fitur .copy()\n",
        "print(\">>> Fitur .copy()\")\n",
        "info_karyawan1 = {'nama' : 'Aksara',\n",
        "'nik' : '1211011',\n",
        "'pekerjaan' : 'Data Analyst'}\n",
        "info_karyawan2 = info_karyawan1.copy()\n",
        "info_karyawan2['nama'] = 'Senja'\n",
        "info_karyawan2['nik'] = '1211056'\n",
        "print(info_karyawan1)\n",
        "print(info_karyawan2)\n",
        "# Fitur .keys()\n",
        "print(\">>> Fitur .keys()\")\n",
        "info_karyawan = {'nama' : 'Aksara',\n",
        "'nik' : '1211011',\n",
        "'pekerjaan' : 'Data Analyst'}\n",
        "kunci_akses = list(info_karyawan.keys())\n",
        "print(kunci_akses)\n",
        "# Fitur .values()\n",
        "print(\">>> Fitur .values()\")\n",
        "value_dict = list(info_karyawan.values())\n",
        "print(value_dict)\n",
        "# Fitur .update()\n",
        "print(\">>> Fitur .update()\")\n",
        "info_karyawan.update({'skillset':['Python', 'R']})\n",
        "print(info_karyawan)"
      ],
      "execution_count": null,
      "outputs": []
    },
    {
      "cell_type": "markdown",
      "metadata": {
        "id": "JVRyVLpYie1r"
      },
      "source": [
        "# [Useful Tips and Tricks](https://academy.dqlab.id/main/livecode/160/296/1327?pr=0)"
      ]
    },
    {
      "cell_type": "code",
      "metadata": {
        "id": "J0ImUemjikzU"
      },
      "source": [
        "# Tuple\n",
        "print(\">>> Tuple\")\n",
        "tuple_menu = ('Gado-gado','Ayam Goreng','Rendang','Ketoprak')\n",
        "jumlah_menu = len(tuple_menu)\n",
        "print(jumlah_menu)\n",
        "# List\n",
        "print(\">>> List\")\n",
        "list_menu = ['Gado-gado','Ayam Goreng','Rendang','Ketoprak']\n",
        "jumlah_menu = len(list_menu)\n",
        "print(jumlah_menu)\n",
        "# Konversi tipe data\n",
        "print(\">>> Konversi tipe data\")\n",
        "list_buah = ['Apel', 'Apel', 'Jeruk', 'Markisa', 'Jeruk', 'Markisa', 'Apel']\n",
        "set_buah = set(list_buah)\n",
        "print(set_buah)\n",
        "list_buah = list(set_buah)\n",
        "list_buah.sort()\n",
        "print(list_buah)"
      ],
      "execution_count": null,
      "outputs": []
    },
    {
      "cell_type": "markdown",
      "metadata": {
        "id": "3Pm7KJoTim1-"
      },
      "source": [
        "# [Tugas Praktek-1.1](https://academy.dqlab.id/main/livecode/160/296/1328?pr=0)"
      ]
    },
    {
      "cell_type": "code",
      "metadata": {
        "id": "HIaMbeG4ivKe"
      },
      "source": [
        "# Data keuangan\n",
        "keuangan = {\n",
        "'pengeluaran': [2, 2.5, 2.25, 2.5, 3.2, 2.5, 3.5, 4, 3],\n",
        "'pemasukan': [7.8, 7.5, 9, 7.6, 7.2, 7.5, 7, 10, 7.5]\n",
        "}\n",
        "# Perhitungan rata-rata pemasukan dan rata-rata pengeluaran\n",
        "total_pengeluaran = 0\n",
        "total_pemasukan = 0\n",
        "for biaya in keuangan ['pengeluaran']: \n",
        "    total_pengeluaran +=biaya\n",
        "for biaya in keuangan ['pemasukan']: \n",
        "    total_pemasukan +=biaya\n",
        "rata_rata_pengeluaran = total_pengeluaran/len(keuangan ['pengeluaran'])\n",
        "rata_rata_pemasukan = total_pemasukan/len (keuangan ['pemasukan'])\n",
        "print(rata_rata_pengeluaran) \n",
        "print(rata_rata_pemasukan)"
      ],
      "execution_count": null,
      "outputs": []
    },
    {
      "cell_type": "markdown",
      "metadata": {
        "id": "RXnoB-TBi8ei"
      },
      "source": [
        "# [Apa itu String Manipulation?](https://academy.dqlab.id/main/livecode/160/297/1330?pr=0)"
      ]
    },
    {
      "cell_type": "code",
      "metadata": {
        "id": "pJpRcVPqjYNI"
      },
      "source": [
        "nama_produk = \"Sepatu Niko\"\n",
        "nama_produk = nama_produk[:2] + \"P\" + nama_produk[3:9] + \"K\" + nama_produk[-1]\n",
        "print(nama_produk)\n",
        "print(nama_produk[:7])\n",
        "print(nama_produk[7:])\n",
        "print(len(nama_produk))"
      ],
      "execution_count": null,
      "outputs": []
    },
    {
      "cell_type": "markdown",
      "metadata": {
        "id": "mtgm1XPNjba6"
      },
      "source": [
        "# [Operator “+” untuk Tipe Data String](https://academy.dqlab.id/main/livecode/160/297/1331?pr=null)"
      ]
    },
    {
      "cell_type": "code",
      "metadata": {
        "id": "8IgKxLRrjvL2"
      },
      "source": [
        "nama_depan = 'John'\n",
        "nama_belakang = 'Doee'\n",
        "nama_lengkap = nama_depan + ' ' + nama_belakang\n",
        "print(nama_lengkap)\n",
        "umur = '27 tahun'\n",
        "alamat = 'Jl. Anggrek No. 100'\n",
        "nama_umur_alamat = 'Hi, saya ' + nama_lengkap + ' umur ' + umur + ', tinggal di ' + alamat + '.'\n",
        "print(nama_umur_alamat)"
      ],
      "execution_count": null,
      "outputs": []
    },
    {
      "cell_type": "markdown",
      "metadata": {
        "id": "QcmcGx40jv9K"
      },
      "source": [
        "# [Menghilangkan Spasi di Awal dan/atau di Akhir](https://academy.dqlab.id/main/livecode/160/297/1332?pr=null)"
      ]
    },
    {
      "cell_type": "code",
      "metadata": {
        "id": "mo59BqXYj3UF"
      },
      "source": [
        "# Fitur .strip()\n",
        "print(\">>> Fitur .strip()\")\n",
        "kata_sambutan = ' halo, selamat siang! '\n",
        "kata_sambutan = kata_sambutan.strip()\n",
        "print(kata_sambutan)\n",
        "# Fitur .lstrip()\n",
        "print(\">>> Fitur .lstrip()\")\n",
        "kata_sambutan = ' halo, selamat siang! '\n",
        "kata_sambutan = kata_sambutan.lstrip()\n",
        "print(kata_sambutan)\n",
        "# Fitur .rstrip()\n",
        "print(\">>> Fitur .rstrip()\")\n",
        "kata_sambutan = ' halo, selamat siang! '\n",
        "kata_sambutan = kata_sambutan.rstrip()\n",
        "print(kata_sambutan)"
      ],
      "execution_count": null,
      "outputs": []
    },
    {
      "cell_type": "markdown",
      "metadata": {
        "id": "DfYm-OzskB1s"
      },
      "source": [
        "# [Merubah Caps pada String](https://academy.dqlab.id/main/livecode/160/297/1333?pr=null)"
      ]
    },
    {
      "cell_type": "code",
      "metadata": {
        "id": "-hteMRyKkIaR"
      },
      "source": [
        "# Fitur .capitalize()\n",
        "print(\">>> Fitur .capitalize()\")\n",
        "judul_buku = 'belajar bahasa Python'\n",
        "print(judul_buku.capitalize())\n",
        "# Fitur .lower()\n",
        "print(\">>> Fitur .lower()\")\n",
        "judul_buku = 'Belajar Bahasa PYTHON.'\n",
        "print(judul_buku.lower())\n",
        "# Fitur .upper()\n",
        "print(\">>> Fitur .upper()\")\n",
        "judul_buku = 'Belajar Bahasa PYTHON.'\n",
        "print(judul_buku.upper())"
      ],
      "execution_count": null,
      "outputs": []
    },
    {
      "cell_type": "markdown",
      "metadata": {
        "id": "d3BKaLikkJRP"
      },
      "source": [
        "# [Pemecahan, Penggabungan, dan Penggantian String](https://academy.dqlab.id/main/livecode/160/297/1334?pr=null)"
      ]
    },
    {
      "cell_type": "code",
      "metadata": {
        "id": "jBH37mBEkPQH"
      },
      "source": [
        "# Fitur .split()\n",
        "print(\">>> Fitur .split()\")\n",
        "bilangan = \"ani dan budi dan wati dan johan\"\n",
        "karakter = bilangan.split(\"dan\")\n",
        "print(karakter)\n",
        "kata = bilangan.split(\" \")\n",
        "print(kata)\n",
        "# Fitur .join()\n",
        "print(\">>> Fitur .join()\")\n",
        "pemisah = \" dan \"\n",
        "karakter = [\"Ricky\", \"Peter\", \"Jordan\"]\n",
        "kalimat = pemisah.join(karakter)\n",
        "print(kalimat)\n",
        "# Fitur .replace()\n",
        "print(\">>> Fitur .replace()\")\n",
        "kalimat = \"apel malang apel yang paling segar, apel sehat, apel nikmat\"\n",
        "kalimat = kalimat.replace(\"apel\", \"jeruk\")\n",
        "print(kalimat)"
      ],
      "execution_count": null,
      "outputs": []
    },
    {
      "cell_type": "markdown",
      "metadata": {
        "id": "y-u94cIzkSFw"
      },
      "source": [
        "# [Menentukan Posisi dan Jumlah Sub-string pada String](https://academy.dqlab.id/main/livecode/160/297/1335?pr=null)"
      ]
    },
    {
      "cell_type": "code",
      "metadata": {
        "id": "KMy0UL99kiBG"
      },
      "source": [
        "teks = \"Apel malang adalah apel termanis dibanding apel-apel lainnya\"\n",
        "# Fitur .find()\n",
        "print(\">>> Fitur .find()\")\n",
        "print(teks.find(\"Apel\"))\n",
        "print(teks.find(\"malang\"))\n",
        "# Fitur .count()\n",
        "print(\">>> Fitur .count()\")\n",
        "kemunculan_kata_apel = teks.count(\"apel\")\n",
        "print(kemunculan_kata_apel)"
      ],
      "execution_count": null,
      "outputs": []
    },
    {
      "cell_type": "markdown",
      "metadata": {
        "id": "W9X-1yG1kirE"
      },
      "source": [
        "# [Menentukan String Apakah Diawali/Diakhiri oleh Sub-string](https://academy.dqlab.id/main/livecode/160/297/1336?pr=null)"
      ]
    },
    {
      "cell_type": "code",
      "metadata": {
        "id": "-HYY4AzXkpt6"
      },
      "source": [
        "# Fitur .startswith()\n",
        "print(\">>> Fitur .startswith()\")\n",
        "teks = \"Apel malang adalah apel termanis dibanding apel-apel lainnya\"\n",
        "print(teks.startswith(\"Apel\"))\n",
        "print(teks.startswith(\"apel\"))\n",
        "# Fitur .endswith()\n",
        "print(\">>> Fitur .endswith()\")\n",
        "print(teks.endswith(\"lainnya\"))\n",
        "print(teks.endswith(\"apel\"))"
      ],
      "execution_count": null,
      "outputs": []
    },
    {
      "cell_type": "markdown",
      "metadata": {
        "id": "MnF9y-xQkqq2"
      },
      "source": [
        "# [Tugas Praktek-2.1](https://academy.dqlab.id/main/livecode/160/297/1337?pr=null)"
      ]
    },
    {
      "cell_type": "code",
      "metadata": {
        "id": "DA4zEPR2k5On"
      },
      "source": [
        "judul_artikel = [\n",
        "\"Buah Salak Baik untuk Mata\", \"Buah Salak Kaya Potasium\", \n",
        "\"Buah Jeruk Kaya Vitamin C\", \"Buah Salak Kaya Manfaat\", \n",
        "\"Salak Baik untuk Jantung\", \"Jeruk dapat Memperkuat Tulang\", \n",
        "\"Jeruk Mencegah Penyakit Asma\", \"Jeruk Memperkuat Gigi\", \n",
        "\"Jeruk Mencegah Kolesterol Jahat\", \"Salak Mencegah Diabetes\", \n",
        "\"Salak Memperkuat Dinding Usus\", \"Salak Baik untuk Darah\",\n",
        "\"Jeruk Kaya Manfaat untuk Jantung\", \"Salak si Kecil yang Baik\", \n",
        "\"Jeruk dan Salak Buah Kaya Manfaat\", \"Buah Jeruk Enak\",\n",
        "\"Tips Panen Jeruk Ribuan Kilo\", \"Tips Bertanam Salak\", \n",
        "\"Salak Manis untuk Berbuka\", \"Jeruk Baik untuk Wajah\"\n",
        "]\n",
        "jumlah_artikel_jeruk = 0\n",
        "jumlah_artikel_salak = 0\n",
        "for judul in judul_artikel:\n",
        "    if judul.count(\"Jeruk\") > 0: \n",
        "        jumlah_artikel_jeruk += 1\n",
        "    if judul.count(\"Salak\") > 0:\n",
        "        jumlah_artikel_salak += 1\n",
        "print(jumlah_artikel_jeruk) \n",
        "print(jumlah_artikel_salak)"
      ],
      "execution_count": null,
      "outputs": []
    },
    {
      "cell_type": "markdown",
      "metadata": {
        "id": "mAo4BjtGk6Ry"
      },
      "source": [
        "# [Tugas Praktek-2.2](https://academy.dqlab.id/main/livecode/160/297/1338?pr=null)"
      ]
    },
    {
      "cell_type": "code",
      "metadata": {
        "id": "8dv24TvZlBoS"
      },
      "source": [
        "judul_artikel = [\n",
        "\"Buah Salak Baik untuk Mata\", \"Buah Salak Kaya Potasium\", \n",
        "\"Buah Jeruk Kaya Vitamin C\", \"Buah Salak Kaya Manfaat\", \n",
        "\"Salak Baik untuk Jantung\", \"Jeruk dapat Memperkuat Tulang\", \n",
        "\"Jeruk Mencegah Penyakit Asma\", \"Jeruk Memperkuat Gigi\", \n",
        "\"Jeruk Mencegah Kolesterol Jahat\", \"Salak Mencegah Diabetes\", \n",
        "\"Salak Memperkuat Dinding Usus\", \"Salak Baik untuk Darah\",\n",
        "\"Jeruk Kaya Manfaat untuk Jantung\", \"Salak si Kecil yang Baik\", \n",
        "\"Jeruk dan Salak Buah Kaya Manfaat\", \"Buah Jeruk Enak\",\n",
        "\"Tips Panen Jeruk Ribuan Kilo\", \"Tips Bertanam Salak\", \n",
        "\"Salak Manis untuk Berbuka\", \"Jeruk Baik untuk Wajah\"\n",
        "]\n",
        "kata_positif = [\"Kaya\", \"Baik\", \"Mencegah\", \"Memperkuat\"]\n",
        "kata_positif_jeruk = 0\n",
        "kata_positif_salak = 0\n",
        "for judul in judul_artikel: \n",
        "    for kata in kata_positif:\n",
        "        if judul.count(\"Jeruk\") >0 and judul.count(kata) >0: \n",
        "            kata_positif_jeruk += 1\n",
        "        if judul.count(\"Salak\") >0 and judul.count(kata) >0:\n",
        "            kata_positif_salak += 1\n",
        "print(kata_positif_jeruk) \n",
        "print(kata_positif_salak)"
      ],
      "execution_count": null,
      "outputs": []
    },
    {
      "cell_type": "markdown",
      "metadata": {
        "id": "bnux7ficlPBD"
      },
      "source": [
        "# [Fungsi Pertama](https://academy.dqlab.id/main/livecode/160/298/1340?pr=null)"
      ]
    },
    {
      "cell_type": "code",
      "metadata": {
        "id": "0pCg4EZjlVVq"
      },
      "source": [
        "# Definisikan fungsi\n",
        "def contoh_fungsi():\n",
        "    print(\"Halo Dunia\")\n",
        "    print(\"Aku sedang belajar bahasa Python\")\n",
        "# Panggil fungsi yang telah didefinisikan\n",
        "contoh_fungsi()"
      ],
      "execution_count": null,
      "outputs": []
    },
    {
      "cell_type": "markdown",
      "metadata": {
        "id": "iE4DMGOnlWA3"
      },
      "source": [
        "# [Fungsi Kedua](https://academy.dqlab.id/main/livecode/160/298/1341?pr=null)"
      ]
    },
    {
      "cell_type": "code",
      "metadata": {
        "id": "1l1cb6EUlcWf"
      },
      "source": [
        "# Definsikan fungsi\n",
        "def fungsi_dengan_argumen(nama_depan, nama_belakang):\n",
        "\tprint(nama_depan+\" \"+nama_belakang)\n",
        "# Panggil fungsi dengan memasukkan argumen\n",
        "# nama_depan yaitu \"John\" dan nama_belakang \"Doe\"\n",
        "fungsi_dengan_argumen(\"John\", \"Doe\")"
      ],
      "execution_count": null,
      "outputs": []
    },
    {
      "cell_type": "markdown",
      "metadata": {
        "id": "-yaTp9Lvlefz"
      },
      "source": [
        "# [Fungsi Ketiga](https://academy.dqlab.id/main/livecode/160/298/1342?pr=null)"
      ]
    },
    {
      "cell_type": "code",
      "metadata": {
        "id": "S19VYrrDlkgd"
      },
      "source": [
        "# Definsikan fungsi dengan nilai default argument kedua adalah \"\".\n",
        "def fungsi_dengan_argumen(nama_depan, nama_belakang = \"\"):\n",
        "\tprint(nama_depan+\" \"+nama_belakang)\n",
        "# Panggil fungsi dengan memasukkan argumen nama_depan \"John\"\n",
        "fungsi_dengan_argumen(\"John\")\n",
        "# Panggil fungsi dengan memasukkan argumen\n",
        "# nama_depan yaitu \"John\" dan nama_belakang \"Doe\"\n",
        "fungsi_dengan_argumen(\"John\", \"Doe\")"
      ],
      "execution_count": null,
      "outputs": []
    },
    {
      "cell_type": "markdown",
      "metadata": {
        "id": "tdwWG_mcl0fT"
      },
      "source": [
        "# [Tugas Praktek-3.1](https://academy.dqlab.id/main/livecode/160/298/1343?pr=null)"
      ]
    },
    {
      "cell_type": "code",
      "metadata": {
        "id": "e6QeE_-Cl-_o"
      },
      "source": [
        "# Dua buah data yang tersimpan dalam tipe list\n",
        "data1 = [70, 70, 70, 100, 100, 100, 120, 120, 150, 150]\n",
        "data2 = [50, 60, 60, 50, 70, 70, 100, 80, 100, 90]\n",
        "# Definisikan fungsi hitng_rata_rata\n",
        "def hitung_rata_rata(data):\n",
        "    jumlah = 0\n",
        "    for item in data:\n",
        "        jumlah += item\n",
        "    rata_rata = jumlah/len(data)\n",
        "    return rata_rata\n",
        "# Hitung nilai rata-rata dari kedua data yang dimiliki\n",
        "print('Rata-rata data1:')\n",
        "print(hitung_rata_rata(data1))\n",
        "print('Rata-rata data2:')\n",
        "print(hitung_rata_rata(data2))"
      ],
      "execution_count": null,
      "outputs": []
    },
    {
      "cell_type": "markdown",
      "metadata": {
        "id": "xSn6kf6wl_2c"
      },
      "source": [
        "# [Tugas Praktek-3.2](https://academy.dqlab.id/main/livecode/160/298/1344?pr=null)"
      ]
    },
    {
      "cell_type": "code",
      "metadata": {
        "id": "BGM93c7mmLG_"
      },
      "source": [
        "# Dua buah data yang tersimpan dalam tipe list\n",
        "data1 = [70, 70, 70, 100, 100, 100, 120, 120, 150, 150]\n",
        "data2 = [50, 60, 60, 50, 70, 70, 100, 80, 100, 90]\n",
        "# Fungsi rata-rata data\n",
        "def hitung_rata_rata(data):\n",
        "\tjumlah = 0\n",
        "\tfor item in data:\n",
        "\t\tjumlah += item\n",
        "\t\trata_rata = jumlah/len(data)\n",
        "\treturn rata_rata\n",
        "# Definisikan fungsi hitung_standar_deviasi\n",
        "def hitung_standar_deviasi(data):\n",
        "\trata_rata_data = hitung_rata_rata(data)\n",
        "\tvarians = 0\n",
        "\tfor item in data:\n",
        "\t\tvarians += (item - rata_rata_data) ** 2\n",
        "\t\tvarians /= len(data)\n",
        "\t\tstandar_deviasi = varians ** (1/2)\n",
        "\treturn standar_deviasi\n",
        "# Hitung nilai standar deviasi dari kedua data yang dimiliki\n",
        "print('Standar deviasi data1:')\n",
        "print(hitung_standar_deviasi(data1))\n",
        "print('Standar deviasi data2:')\n",
        "print(hitung_standar_deviasi(data2))"
      ],
      "execution_count": null,
      "outputs": []
    },
    {
      "cell_type": "markdown",
      "metadata": {
        "id": "H_44rOPFmMMQ"
      },
      "source": [
        "# [Tugas Praktek-3.3](https://academy.dqlab.id/main/livecode/160/298/1345?pr=null)"
      ]
    },
    {
      "cell_type": "code",
      "metadata": {
        "id": "PoqLdpSJmUZa"
      },
      "source": [
        "# Data properti\n",
        "tabel_properti = {\n",
        "'luas_tanah': [70, 70, 70, 100, 100, 100, 120, 120, 150, 150],\n",
        "'luas_bangunan': [50, 60, 60, 50, 70, 70, 100, 80, 100, 90],\n",
        "'jarak': [15, 30, 55, 30, 25, 50, 20, 50, 50, 15],\n",
        "'harga': [500, 400, 300, 700, 1000, 650, 2000, 1200, 1800, 3000]\n",
        "}\n",
        "# Fungsi rata-rata data\n",
        "def hitung_rata_rata(data):\n",
        "\tjumlah = 0\n",
        "\tfor item in data:\n",
        "\t\tjumlah += item\n",
        "\t\trata_rata = jumlah/len(data)\n",
        "\treturn rata_rata\n",
        "# Fungsi hitung_standar_deviasi\n",
        "def hitung_standar_deviasi(data):\n",
        "\trata_rata_data = hitung_rata_rata(data)\n",
        "\tvarians = 0\n",
        "\tfor item in data:\n",
        "\t\tvarians += (item - rata_rata_data) ** 2\n",
        "\t\tvarians /= len(data)\n",
        "\t\tstandar_deviasi = varians ** (1/2)\n",
        "\treturn standar_deviasi\n",
        "# Definisikan fungsi untuk menghitung rata-rata dan standar deviasi\n",
        "# setiap kolom pada tabel_properti yang diberikan oleh key dict.\n",
        "def deskripsi_properti(tabel):\n",
        "\tfor key in tabel.keys():\n",
        "\t\tprint('Rata-rata ' + key + ':')\n",
        "\t\tprint(hitung_rata_rata(tabel[key]))\n",
        "\t\tprint('Standar deviasi ' + key + ':')\n",
        "\t\tprint(hitung_standar_deviasi(tabel[key]))\n",
        "\t\tprint('')\n",
        "# Panggil fungsi deskripsi_properti untuk menghitung rata-rata\n",
        "# dan standar deviasi setiap kolom pada tabel_properti\n",
        "deskripsi_properti(tabel_properti)"
      ],
      "execution_count": null,
      "outputs": []
    },
    {
      "cell_type": "markdown",
      "metadata": {
        "id": "je3GJAO4mutG"
      },
      "source": [
        "# [Membaca Berkas Teks – Part 1](https://academy.dqlab.id/main/livecode/160/299/1381?pr=null)"
      ]
    },
    {
      "cell_type": "code",
      "metadata": {
        "id": "hWLeYUk-m0Fh"
      },
      "source": [
        "# Membaca file hello.txt dengan fungsi read()\n",
        "print(\">>> Membaca file hello.txt dengan fungsi read()\")\n",
        "file = open(\"hello.txt\", \"r\")\n",
        "content = file.read()\n",
        "file.close()\n",
        "print(content)\n",
        "# Membaca file hello.txt dengan fungsi readline()\n",
        "print(\">>> Membaca file hello.txt dengan fungsi readline()\")\n",
        "file = open(\"hello.txt\", \"r\")\n",
        "first_line = file.readline()\n",
        "second_line = file.readline()\n",
        "file.close()\n",
        "print(first_line)\n",
        "print(second_line)"
      ],
      "execution_count": null,
      "outputs": []
    },
    {
      "cell_type": "markdown",
      "metadata": {
        "id": "11-BB6hFm02x"
      },
      "source": [
        "# [Membaca Berkas Teks – Part 2](https://academy.dqlab.id/main/livecode/160/299/1382?pr=null)"
      ]
    },
    {
      "cell_type": "code",
      "metadata": {
        "id": "NmNeNPOwm8aw"
      },
      "source": [
        "# Membaca file hello.txt dengan fungsi readlines()\n",
        "print(\">>> Membaca file hello.txt dengan fungsi readlines()\")\n",
        "file = open(\"hello.txt\", \"r\")\n",
        "all_lines = file.readlines()\n",
        "file.close()\n",
        "print(all_lines)\n",
        "# Membaca file hello.txt dengan menerapkan looping\n",
        "print(\">>> Membaca file hello.txt dengan menerapkan looping\")\n",
        "file = open(\"hello.txt\", \"r\")\n",
        "for line in file:\n",
        "    print(line)\n",
        "file.close()"
      ],
      "execution_count": null,
      "outputs": []
    },
    {
      "cell_type": "markdown",
      "metadata": {
        "id": "C2QkkMMOm9K8"
      },
      "source": [
        "# [Menulis Berkas Teks – Part 1](https://academy.dqlab.id/main/livecode/160/299/1383?pr=null)"
      ]
    },
    {
      "cell_type": "code",
      "metadata": {
        "id": "RFkGWe6AnEgg"
      },
      "source": [
        "# Menulis ke file hello.txt\n",
        "file = open(\"hello.txt\", \"w\")\n",
        "file.write(\"Sekarang kita belajar menulis dengan menggunakan Python\")\n",
        "file.write(\"Menulis konten file dengan mode w (write).\")\n",
        "file.close()"
      ],
      "execution_count": null,
      "outputs": []
    },
    {
      "cell_type": "markdown",
      "metadata": {
        "id": "HBJjG3ZFnHdH"
      },
      "source": [
        "# [Menulis Berkas Teks – Part 2](https://academy.dqlab.id/main/livecode/160/299/1384?pr=null)"
      ]
    },
    {
      "cell_type": "code",
      "metadata": {
        "id": "x5UvAJ-PnMz7"
      },
      "source": [
        "# Menulis ke file dengan mode append\n",
        "file = open(\"hello.txt\", \"a\")\n",
        "file.writelines([\n",
        "\"Sekarang kita belajar menulis dengan menggunakan Python\", \n",
        "\"Menulis konten file dengan mode a (append).\"\n",
        "])\n",
        "file.close()"
      ],
      "execution_count": null,
      "outputs": []
    },
    {
      "cell_type": "markdown",
      "metadata": {
        "id": "mZgslNtunapa"
      },
      "source": [
        "# [Fungsi dalam Library Matematika – Part 1](https://academy.dqlab.id/main/livecode/160/299/1388?pr=null)"
      ]
    },
    {
      "cell_type": "code",
      "metadata": {
        "id": "ZDB64zk8nfwk"
      },
      "source": [
        "# Import library math\n",
        "import math\n",
        "# Fungsi math.ceil()\n",
        "print(\">>> Fungsi math.ceil()\")\n",
        "x = 10.32\n",
        "y = 13.87\n",
        "x_ceil = math.ceil(x)\n",
        "y_ceil = math.ceil(y)\n",
        "print(x_ceil)\n",
        "print(y_ceil)\n",
        "# Fungsi math.floor()\n",
        "print(\">>> Fungsi math.floor()\")\n",
        "x_floor = math.floor(x)\n",
        "y_floor = math.floor(y)\n",
        "print(x_floor)\n",
        "print(y_floor)\n",
        "# Fungsi math.fabs()\n",
        "print(\">>> Fungsi math.fabs()\")\n",
        "x = 10.32\n",
        "y = -13.87\n",
        "x = math.fabs(x)\n",
        "y = math.fabs(y)\n",
        "print(x)\n",
        "print(y)\n",
        "# Fungsi math.factorial()\n",
        "print(\">>> Fungsi math.factorial()\")\n",
        "x_factorial = math.factorial(5)\n",
        "print(x_factorial)\n",
        "# Fungsi math.fsum()\n",
        "print(\">>> Fungsi math.fsum()\")\n",
        "x = [1, 2, 3, 4, 5, 6, -6, -5, -4]\n",
        "total = math.fsum(x)\n",
        "print(total)"
      ],
      "execution_count": null,
      "outputs": []
    },
    {
      "cell_type": "markdown",
      "metadata": {
        "id": "vl0STduLngYB"
      },
      "source": [
        "# [Fungsi dalam Library Matematika – Part 2](https://academy.dqlab.id/main/livecode/160/299/1389?pr=null)"
      ]
    },
    {
      "cell_type": "code",
      "metadata": {
        "id": "d6ABcbtHnm0q"
      },
      "source": [
        "# Import library math\n",
        "import math\n",
        "# Fungsi math.log()\n",
        "print(\">>> Fungsi math.log()\")\n",
        "# x = log basis 2 dari 8\n",
        "x = math.log(8,2)\n",
        "# y = log basis 3 dari 81\n",
        "y = math.log(81,3)\n",
        "# z = log basis 10 dari 10000\n",
        "z = math.log(10000,10)\n",
        "print(x)\n",
        "print(y)\n",
        "print(z)\n",
        "# Fungsi math.sqrt()\n",
        "print(\">>> Fungsi math.sqrt()\")\n",
        "# akar kuadrat dari 100\n",
        "x = math.sqrt(100)\n",
        "print(x)\n",
        "# akar kuadrat dari 2\n",
        "y = math.sqrt(2)\n",
        "print(y)\n",
        "# Fungsi math.copysign()\n",
        "print(\">>> Fungsi math.copysign()\")\n",
        "x = 10.32\n",
        "y = -13.87\n",
        "z = -15\n",
        "x = math.copysign(x, z)\n",
        "y = math.copysign(y, z)\n",
        "z = math.copysign(z, 10)\n",
        "print(x)\n",
        "print(y)\n",
        "print(z)"
      ],
      "execution_count": null,
      "outputs": []
    },
    {
      "cell_type": "markdown",
      "metadata": {
        "id": "Tbv1Lv5Knr-r"
      },
      "source": [
        "# [Harga Rumah di Tangerang](https://academy.dqlab.id/main/livecode/160/303/1392?pr=null)"
      ]
    },
    {
      "cell_type": "code",
      "metadata": {
        "id": "36s5dcZLnxdP"
      },
      "source": [
        "# STEP 1: \n",
        "# Baca file \"harga_rumah.txt\"\n",
        "file_harga_rumah = open(\"harga_rumah.txt\", \"r\")\n",
        "data_harga_rumah = file_harga_rumah.readlines()\n",
        "file_harga_rumah.close()\n",
        "# Buat list of dict dengan nama harga rumah\n",
        "key_harga_rumah = data_harga_rumah[0].replace(\"\\n\",\"\").split(\",\")\n",
        "harga_rumah = []\n",
        "for baris in data_harga_rumah[1:]:\n",
        "\tbaris_harga_rumah = baris.replace(\"\\n\",\"\").split(\",\")\n",
        "\tdict_harga_rumah = dict()\n",
        "\tfor i in range(len(baris_harga_rumah)):\n",
        "\t\tdict_harga_rumah[key_harga_rumah[i]] = \t\tbaris_harga_rumah[i]\n",
        "\tharga_rumah.append(dict_harga_rumah)\n",
        "print(harga_rumah)\n",
        "# STEP 2:\n",
        "# Buat fungsi  get_all_specified_attribute yang menerima parameter list_of_dictionary \n",
        "# (tipe data list yang berisikan sekumpulan tipe data dictionary) dan specified_key \n",
        "# (tipe data string). Fungsi akan mengembalikan sebuah list yang berisikan seluruh \n",
        "# atribut dengan kunci (key) specified_key. \n",
        "def get_all_specified_attributes(list_of_dictionary, specified_key):\n",
        "\tlist_attributes = []\n",
        "\tfor data in list_of_dictionary:\n",
        "\t\tattribute = data[specified_key]\n",
        "\t\tlist_attributes.append(attribute)\n",
        "\treturn list_attributes\n",
        "# STEP 3: \n",
        "# Buat fungsi fungsi min_value yang menerima parameter list_attributes (berupa \n",
        "# tipe data list) dan mengembalikan nilai terkecil dalam list_attributes \n",
        "def min_value(list_attributes):\n",
        "\tmin_attribute = 9999\n",
        "\tfor attr in list_attributes:\n",
        "\t\tif int(attr) < min_attribute:\n",
        "\t\t\tmin_attribute = int(attr)\n",
        "\treturn min_attribute\n",
        "# Buat fungsi dan max_value yang menerima parameter list_attribute dan \n",
        "# mengembalikan nilai terbesar dalam list_attributes.\t\n",
        "def max_value(list_attributes):\n",
        "\tmax_attribute = -9999\n",
        "\tfor attr in list_attributes:\n",
        "\t\tif int(attr) > max_attribute:\n",
        "\t\t\tmax_attribute = int(attr)\n",
        "\treturn max_attribute\n",
        "# STEP 4: \n",
        "# Buat fungsi transform_attribute yang menerima parameter attr (sebuah \n",
        "# bilangan), max_attr (sebuah bilangan) dan min_attr (sebuah bilangan) \n",
        "# yang mengembalikan nilai transformasi dari sebuah attribute.\n",
        "def transform_attribute(attr, max_attr, min_attr):\n",
        "\tnilai_transformasi = (attr - min_attr) / (max_attr - min_attr)\n",
        "\treturn nilai_transformasi\n",
        "# STEP 5:\n",
        "# Buat fungsi data_transformation yang menerima parameter list_of_dictionary \n",
        "# (sebuah list yang berisikan tipe data dictionary) dan list_attribute_names \n",
        "# (sebuah list yang berisikan tipe data string) mengembalikan hasil \n",
        "# transformasi data dari list_of_dictionary berdasarkan list_attribute_names \n",
        "# dan attr_info telah dispesifikasikan.\n",
        "def data_transformation(list_of_dictionary, list_attribute_names):\n",
        "\tattr_info = {}\n",
        "\tfor attr_name in list_attribute_names:\n",
        "\t\tspecified_attributes = get_all_specified_attributes(list_of_dictionary, attr_name)\n",
        "\t\tmax_attr = max_value(specified_attributes)\n",
        "\t\tmin_attr = min_value(specified_attributes)\n",
        "\t\tattr_info[attr_name] = {'max': max_attr, 'min': min_attr}\n",
        "\t\tdata_idx = 0\n",
        "\t\twhile(data_idx < len(list_of_dictionary)):\n",
        "\t\t\tlist_of_dictionary[data_idx][attr_name] = transform_attribute(int(list_of_dictionary[data_idx][attr_name]), max_attr, min_attr)\n",
        "\t\t\tdata_idx += 1\n",
        "\treturn list_of_dictionary, attr_info\n",
        "# STEP 6:\n",
        "# Berdasarkan data baru dan attr_info ini, buat fungsi transform_data yang\n",
        "# menerima parameter data dan attr_info dan mengembalikan nilai atribut \n",
        "# dari data baru yang telah ditransformasikan.\n",
        "def transform_data(data, attr_info):\n",
        "\tfor key_name in data.keys():\n",
        "\t\tdata[key_name] = (data[key_name] - attr_info[key_name]['min']) / (attr_info[key_name]['max'] - attr_info[key_name]['min'])\n",
        "\treturn data\n",
        "# STEP 7:\n",
        "# Buat fungsi yang digunakan untuk sistem prediksi harga berdasarkan \n",
        "# nilai kemiripan atribut!\n",
        "def abs_value(value):\n",
        "\tif value < 0:\n",
        "\t\treturn -value\n",
        "\telse:\n",
        "\t\treturn value\n",
        "def price_based_on_similarity(data, list_of_data):\n",
        "\tprediksi_harga = 0\n",
        "\tperbedaan_terkecil = 999\n",
        "\tfor data_point in list_of_data:\n",
        "\t\tperbedaan= abs_value(data['tanah'] - data_point['tanah'])\n",
        "\t\tperbedaan+= abs_value(data['bangunan'] - data_point['bangunan'])\n",
        "\t\tperbedaan+= abs_value(data['jarak_ke_pusat'] - data_point['jarak_ke_pusat'])\n",
        "\t\tif perbedaan < perbedaan_terkecil:\n",
        "\t\t\tprediksi_harga = data_point['harga']\n",
        "\t\t\tperbedaan_terkecil = perbedaan\n",
        "\treturn prediksi_harga\n",
        "# STEP 8:\n",
        "# Hitung harga rumah yang telah ditransformasikan ke dalam variabel \n",
        "# harga_rumah berikut dengan atributnya attr_info\n",
        "harga_rumah, attr_info = data_transformation(harga_rumah,\n",
        "                                             ['tanah','bangunan','jarak_ke_pusat'])\n",
        "# Gunakan variabel data untuk memprediksi harga rumah\n",
        "data = {'tanah': 110, 'bangunan': 80, 'jarak_ke_pusat': 35}\n",
        "# Transformasikan data tersebut dengan dengan menggunakan attr_info yang telah \n",
        "# diperoleh yang kembali disimpan ke variabel data.\n",
        "data = transform_data(data, attr_info)\n",
        "# Hitunglah prediksi harga dari variabel data tersebut.\n",
        "harga = price_based_on_similarity(data, harga_rumah)\n",
        "print(\"Prediksi harga rumah: \", harga)"
      ],
      "execution_count": null,
      "outputs": []
    }
  ]
}