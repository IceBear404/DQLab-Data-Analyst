{
  "nbformat": 4,
  "nbformat_minor": 0,
  "metadata": {
    "colab": {
      "name": "Python for Data Professional Beginner - Part 3.ipynb",
      "private_outputs": true,
      "provenance": []
    },
    "kernelspec": {
      "name": "python3",
      "display_name": "Python 3"
    },
    "language_info": {
      "name": "python"
    }
  },
  "cells": [
    {
      "cell_type": "code",
      "metadata": {
        "id": "B0SZH8VmpA-n"
      },
      "source": [
        ""
      ],
      "execution_count": null,
      "outputs": []
    },
    {
      "cell_type": "markdown",
      "metadata": {
        "id": "nyNrv9Z0sLPz"
      },
      "source": [
        "# [Class dan Objek dalam Python - Part 3](https://academy.dqlab.id/main/livecode/161/301/1354?pr=0)"
      ]
    },
    {
      "cell_type": "code",
      "metadata": {
        "id": "zwRi7qphsylS"
      },
      "source": [
        "# Definisikan class Karyawan\n",
        "class Karyawan:\n",
        "    nama_perusahaan = 'ABC'\n",
        "# Inisiasi object yang dinyatakan dalam variabel aksara dan senja\n",
        "aksara = Karyawan()\n",
        "senja = Karyawan()\n",
        "# Cetak nama perusahaan melalui penggunaan keyword __class__\n",
        "# pada class attribute nama_perusahaan\n",
        "print(aksara.__class__.nama_perusahaan)\n",
        "# Ubah nama_perusahaan menjadi 'DEF'\n",
        "aksara.__class__.nama_perusahaan = 'DEF'\n",
        "# Cetak nama_perusahaan objek aksara dan senja\n",
        "print(aksara.__class__.nama_perusahaan)\n",
        "print(senja.__class__.nama_perusahaan)"
      ],
      "execution_count": null,
      "outputs": []
    },
    {
      "cell_type": "markdown",
      "metadata": {
        "id": "0LxcL4Qrs1B6"
      },
      "source": [
        "# [Class dan Objek dalam Python - Part 4](https://academy.dqlab.id/main/livecode/161/301/1355?pr=0)"
      ]
    },
    {
      "cell_type": "code",
      "metadata": {
        "id": "beJ7PWT0tAnn"
      },
      "source": [
        "# Definisikan class Karyawan\n",
        "class Karyawan:\n",
        "    nama_perusahaan = 'ABC'\n",
        "    def __init__(self, nama, usia, pendapatan):\n",
        "        self.nama = nama\n",
        "        self.usia = usia\n",
        "        self.pendapatan = pendapatan\n",
        "# Buat object bernama aksara dan senja\n",
        "aksara = Karyawan('Aksara', 25, 8500000)\n",
        "senja = Karyawan('Senja', 28, 12500000)\n",
        "# Cetak objek bernama aksara\n",
        "print(aksara.nama + ', Usia: ' + str(aksara.usia) + ', Pendapatan ' + str(aksara.pendapatan))\n",
        "# Cetak objek bernama senja\n",
        "print(senja.nama + ', Usia: ' + str(senja.usia) + ', Pendapatan ' + str(senja.pendapatan))"
      ],
      "execution_count": null,
      "outputs": []
    },
    {
      "cell_type": "markdown",
      "metadata": {
        "id": "yqM8KL4XtL3N"
      },
      "source": [
        "# [Behavior pada Class](https://academy.dqlab.id/main/livecode/161/301/1358?pr=0)"
      ]
    },
    {
      "cell_type": "code",
      "metadata": {
        "id": "HWCWpEKFtSiZ"
      },
      "source": [
        "# Definisikan class Karyawan berikut dengan attribut dan fungsinya\n",
        "class Karyawan:\n",
        "    nama_perusahaan = 'ABC'\n",
        "    insentif_lembur = 250000\n",
        "    def __init__(self, nama, usia, pendapatan):\n",
        "        self.nama = nama\n",
        "        self.usia = usia\n",
        "        self.pendapatan = pendapatan\n",
        "        self.pendapatan_tambahan = 0\n",
        "    def lembur(self):\n",
        "        self.pendapatan_tambahan += self.insentif_lembur\n",
        "    def tambahan_proyek(self, insentif_proyek):\n",
        "    \tself.pendapatan_tambahan += insentif_proyek\n",
        "    def total_pendapatan(self):\n",
        "    \treturn self.pendapatan + self.pendapatan_tambahan\n",
        "# Buat object dari karwayan bernama Aksara dan Senja\n",
        "aksara = Karyawan('Aksara', 25, 8500000)\n",
        "senja = Karyawan('Senja', 28, 12500000)\n",
        "# Aksara melaksanakan lembur\n",
        "aksara.lembur()\n",
        "# Senja memiliki proyek tambahan\n",
        "senja.tambahan_proyek(2500000)\n",
        "# Cetak pendapatan total Aksara dan Senja\n",
        "print('Pendapatan Total Aksara: ' + str(aksara.total_pendapatan()))\n",
        "print('Pendapatan Total Senja: ' +str(senja.total_pendapatan()))"
      ],
      "execution_count": null,
      "outputs": []
    },
    {
      "cell_type": "markdown",
      "metadata": {
        "id": "At881NfLtTgd"
      },
      "source": [
        "# [Tugas Praktek-2.1](https://academy.dqlab.id/main/livecode/161/301/1359?pr=0)"
      ]
    },
    {
      "cell_type": "code",
      "metadata": {
        "id": "6wPE0CHbtc7c"
      },
      "source": [
        "# Definisikan class Karyawan\n",
        "class Karyawan:\n",
        "    def __init__(self, nama, usia, pendapatan, insentif_lembur): \n",
        "        self.nama = nama\n",
        "        self.usia = usia\n",
        "        self.pendapatan = pendapatan \n",
        "        self.pendapatan_tambahan = 0\n",
        "        self.insentif_lembur = insentif_lembur \n",
        "    def lembur(self):\n",
        "        self.pendapatan_tambahan += self.insentif_lembur \n",
        "    def tambahan_proyek(self, jumlah_tambahan):\n",
        "        self.pendapatan_tambahan += jumlah_tambahan \n",
        "    def total_pendapatan(self):\n",
        "        return self.pendapatan + self.pendapatan_tambahan\n",
        "# Definisikan class Perusahaan\n",
        "class Perusahaan:\n",
        "    def __init__(self, nama, alamat, nomor_telepon): \n",
        "        self.nama = nama\n",
        "        self.alamat = alamat \n",
        "        self.nomor_telepon = nomor_telepon\n",
        "        self.list_karyawan = []\n",
        "    def aktifkan_karyawan(self, karyawan): \n",
        "        self.list_karyawan.append(karyawan)\n",
        "    def nonaktifkan_karyawan(self, nama_karyawan): \n",
        "        karyawan_nonaktif = None\n",
        "        for karyawan in self.list_karyawan:\n",
        "            if karyawan.nama == nama_karyawan: \n",
        "                karyawan_nonaktif = karyawan \n",
        "                break\n",
        "        if karyawan_nonaktif is not None: \n",
        "            self.list_karyawan.remove(karyawan_nonaktif)"
      ],
      "execution_count": null,
      "outputs": []
    },
    {
      "cell_type": "markdown",
      "metadata": {
        "id": "TMZXd3HItdjD"
      },
      "source": [
        "# [Tugas Praktek-2.2](https://academy.dqlab.id/main/livecode/161/301/1360?pr=0)"
      ]
    },
    {
      "cell_type": "code",
      "metadata": {
        "id": "dghYYVqItmrv"
      },
      "source": [
        "# Definisikan perusahaan\n",
        "perusahaan = Perusahaan('ABC', 'Jl. Jendral Sudirman, Blok 11', '(021)95205XX')\n",
        "# Definisikan nama-nama karyawan\n",
        "karyawan_1 = Karyawan('Ani', 25, 8500000, 100000)\n",
        "karyawan_2 = Karyawan('Budi', 28, 12000000, 150000)\n",
        "karyawan_3 = Karyawan('Cici', 30, 15000000, 200000)\n",
        "# Aktifkan karyawan di perusahaan ABC\n",
        "perusahaan.aktifkan_karyawan(karyawan_1) \n",
        "perusahaan.aktifkan_karyawan(karyawan_2) \n",
        "perusahaan.aktifkan_karyawan(karyawan_3)"
      ],
      "execution_count": null,
      "outputs": []
    },
    {
      "cell_type": "markdown",
      "metadata": {
        "id": "NxrN13KDt2LC"
      },
      "source": [
        "# [Encapsulation pada Python - Part 2](https://academy.dqlab.id/main/livecode/161/302/1362?pr=0)"
      ]
    },
    {
      "cell_type": "code",
      "metadata": {
        "id": "fjLmdy4It71P"
      },
      "source": [
        "# Definisikan class Karyawan\n",
        "class Karyawan: \n",
        "    nama_perusahaan = 'ABC' \n",
        "    __insentif_lembur = 250000\n",
        "    def __init__(self, nama, usia, pendapatan): \n",
        "        self.__nama = nama\n",
        "        self.__usia = usia \n",
        "        self.__pendapatan = pendapatan \n",
        "        self.__pendapatan_tambahan = 0\n",
        "    def lembur(self):\n",
        "        self.__pendapatan_tambahan += self.__insentif_lembur \n",
        "    def tambahan_proyek(self, insentif_proyek):\n",
        "        self.__pendapatan_tambahan +=insentif_proyek \n",
        "    def total_pendapatan(self):\n",
        "        return self.__pendapatan + self.__pendapatan_tambahan\n",
        "# Buat objek karyawan bernama Aksara\n",
        "aksara = Karyawan('Aksara', 25, 8500000)\n",
        "# Akses ke attribute class Karyawan\n",
        "print(aksara.__class__.nama_perusahaan)\n",
        "# Akan menimbulkan error ketika di run\n",
        "print(aksara.__nama)"
      ],
      "execution_count": null,
      "outputs": []
    },
    {
      "cell_type": "markdown",
      "metadata": {
        "id": "9Tq7wdxvt8ix"
      },
      "source": [
        "# [Inheritance pada Python – Part 1](https://academy.dqlab.id/main/livecode/161/302/1365?pr=0)"
      ]
    },
    {
      "cell_type": "code",
      "metadata": {
        "id": "wOckhzgsuFd-"
      },
      "source": [
        "# Definisikan class Karyawan (sebagai base class)\n",
        "class Karyawan: \n",
        "    nama_perusahaan = 'ABC' \n",
        "    insentif_lembur = 250000\n",
        "    def __init__(self, nama, usia, pendapatan): \n",
        "        self.nama = nama\n",
        "        self.usia = usia \n",
        "        self.pendapatan = pendapatan \n",
        "        self.pendapatan_tambahan = 0\n",
        "    def lembur(self):\n",
        "        self.pendapatan_tambahan += self.insentif_lembur \n",
        "    def tambahan_proyek(self, insentif_proyek):\n",
        "        self.pendapatan_tambahan += insentif_proyek \n",
        "    def total_pendapatan(self):\n",
        "        return self.pendapatan + self.pendapatan_tambahan\n",
        "# Buat class turunan (sebagai inherit class) dari class karyawan, \n",
        "# yaitu class AnalisData\n",
        "class AnalisData(Karyawan):\n",
        "    def __init__(self, nama, usia, pendapatan):\n",
        "    # melakukan pemanggilan konstruktur class Karyawan \n",
        "        super().__init__(nama, usia, pendapatan)\n",
        "# Buat kembali class turunan (sebagai inherit class) dari class karyawan,  \n",
        "# yaitu class IlmuwanData\n",
        "class IlmuwanData(Karyawan):\n",
        "    def __init__(self, nama, usia, pendapatan):\n",
        "        # melakukan pemanggilan konstruktur class Karyawan \n",
        "        super().__init__(nama, usia, pendapatan)\n",
        "# Buat objek karyawan yang bekerja sebagai AnalisData\n",
        "aksara = AnalisData('Aksara', 25, 8500000)\n",
        "aksara.lembur()\n",
        "print(aksara.total_pendapatan())\n",
        "# Buat objek karyawan yang bekerja sebagai IlmuwanData\n",
        "senja = IlmuwanData('Senja', 28, 13000000)\n",
        "senja.tambahan_proyek(2000000)\n",
        "print(senja.total_pendapatan())"
      ],
      "execution_count": null,
      "outputs": []
    },
    {
      "cell_type": "markdown",
      "metadata": {
        "id": "qihDeDfUuGRe"
      },
      "source": [
        "# [Inheritance pada Python – Part 2](https://academy.dqlab.id/main/livecode/161/302/1370?pr=0)"
      ]
    },
    {
      "cell_type": "code",
      "metadata": {
        "id": "uXJnWZHNuN_f"
      },
      "source": [
        "# Definisikan class Karyawan (sebagai base class)\n",
        "class Karyawan: \n",
        "    nama_perusahaan = 'ABC' \n",
        "    insentif_lembur = 250000\n",
        "    def __init__(self, nama, usia, pendapatan): \n",
        "        self.nama = nama\n",
        "        self.usia = usia \n",
        "        self.pendapatan = pendapatan \n",
        "        self.pendapatan_tambahan = 0\n",
        "    def lembur(self):\n",
        "        self.pendapatan_tambahan += self.insentif_lembur \n",
        "    def tambahan_proyek(self, insentif_proyek):\n",
        "        self.pendapatan_tambahan += insentif_proyek \n",
        "    def total_pendapatan(self):\n",
        "        return self.pendapatan + self.pendapatan_tambahan\n",
        "# Buat class turunan (sebagai inherit class) dari class karyawan, \n",
        "# yaitu class AnalisData\n",
        "class AnalisData(Karyawan):\n",
        "    def __init__(self, nama, usia, pendapatan):\n",
        "    # melakukan pemanggilan konstruktur class Karyawan \n",
        "        super().__init__(nama, usia, pendapatan)\n",
        "# Buat kembali class turunan (sebagai inherit class) dari class karyawan,  \n",
        "# yaitu class IlmuwanData\n",
        "class IlmuwanData(Karyawan):\n",
        "    # mengubah atribut insentif_lembur yang digunakan pada fungsi lembur()\n",
        "    insentif_lembur = 500000\n",
        "    def __init__(self, nama, usia, pendapatan): \n",
        "        super().__init__(nama, usia, pendapatan)\n",
        "# Buat objek karyawan yang bekerja sebagai AnalisData\n",
        "aksara = AnalisData('Aksara', 25, 8500000)\n",
        "aksara.lembur()\n",
        "print(aksara.total_pendapatan())\n",
        "# Buat objek karyawan yang bekerja sebagai IlmuwanData\n",
        "senja = IlmuwanData('Senja', 28, 13000000)\n",
        "senja.lembur()\n",
        "print(senja.total_pendapatan())"
      ],
      "execution_count": null,
      "outputs": []
    },
    {
      "cell_type": "markdown",
      "metadata": {
        "id": "KHh3zb9MuW3T"
      },
      "source": [
        "# [Polymorphism pada Python - Part 1](https://academy.dqlab.id/main/livecode/161/304/1373?pr=0)"
      ]
    },
    {
      "cell_type": "code",
      "metadata": {
        "id": "bZzAvGAruaQJ"
      },
      "source": [
        "# Definisikan class Karyawan (sebagai base class)\n",
        "class Karyawan: \n",
        "    nama_perusahaan = 'ABC' \n",
        "    insentif_lembur = 250000\n",
        "    def __init__(self, nama, usia, pendapatan): \n",
        "        self.nama = nama\n",
        "        self.usia = usia \n",
        "        self.pendapatan = pendapatan \n",
        "        self.pendapatan_tambahan = 0\n",
        "    def lembur(self):\n",
        "        self.pendapatan_tambahan += self.insentif_lembur \n",
        "    def tambahan_proyek(self, insentif_proyek):\n",
        "        self.pendapatan_tambahan += insentif_proyek \n",
        "    def total_pendapatan(self):\n",
        "        return self.pendapatan + self.pendapatan_tambahan\n",
        "# Buat class turunan (sebagai inherit class) dari class karyawan, \n",
        "# yaitu class AnalisData\n",
        "class AnalisData(Karyawan):\n",
        "    def __init__(self, nama, usia, pendapatan):\n",
        "    # melakukan pemanggilan konstruktur class Karyawan \n",
        "        super().__init__(nama, usia, pendapatan)\n",
        "    # menerapkan polymorphism dengan mendefinisikan kembali fungsi \n",
        "    # lembur() pada class AnalisData \n",
        "    def lembur(self):\n",
        "        # pendapatan tambahan pada class AnalisData sebesar\n",
        "        # 10 % dari pendapatannya.\n",
        "        self.pendapatan_tambahan += int(self.pendapatan * 0.1)\n",
        "# Buat objek karyawan yang bekerja sebagai AnalisData\n",
        "aksara = AnalisData('Aksara', 25, 8500000)\n",
        "aksara.lembur()\n",
        "print(aksara.total_pendapatan())"
      ],
      "execution_count": null,
      "outputs": []
    },
    {
      "cell_type": "markdown",
      "metadata": {
        "id": "n-ITooNKuc1-"
      },
      "source": [
        "# [Polymorphism pada Python - Part 2](https://academy.dqlab.id/main/livecode/161/304/1374?pr=0)"
      ]
    },
    {
      "cell_type": "code",
      "metadata": {
        "id": "OHtzRlzCulYH"
      },
      "source": [
        "# Definisikan class Karyawan (sebagai base class)\n",
        "class Karyawan: \n",
        "    nama_perusahaan = 'ABC' \n",
        "    insentif_lembur = 250000\n",
        "    def __init__(self, nama, usia, pendapatan): \n",
        "        self.nama = nama\n",
        "        self.usia = usia \n",
        "        self.pendapatan = pendapatan \n",
        "        self.pendapatan_tambahan = 0\n",
        "    def lembur(self):\n",
        "        self.pendapatan_tambahan += self.insentif_lembur \n",
        "    def tambahan_proyek(self, insentif_proyek):\n",
        "        self.pendapatan_tambahan += insentif_proyek \n",
        "    def total_pendapatan(self):\n",
        "        return self.pendapatan + self.pendapatan_tambahan\n",
        "# Buat class turunan (sebagai inherit class) dari class karyawan, \n",
        "# yaitu class AnalisData\n",
        "class AnalisData(Karyawan):\n",
        "    def __init__(self, nama, usia, pendapatan): \n",
        "        super().__init__ (nama, usia, pendapatan)\n",
        "    # mendefinisikan kembali fungsi lembur() pada class AnalisData \n",
        "    def lembur(self):\n",
        "        # memanggil fungsi lembur pada class Karyawan \n",
        "        super().lembur()\n",
        "        # pendapatan tambahan pada class AnalisData sebesar\n",
        "        # 5 % dari pendapatannya.\n",
        "        self.pendapatan_tambahan += int(self.pendapatan * 0.05)\n",
        "# Buat objek karyawan yang bekerja sebagai AnalisData\n",
        "aksara = AnalisData('Aksara', 25, 8500000)\n",
        "aksara.lembur()\n",
        "print(aksara.total_pendapatan())"
      ],
      "execution_count": null,
      "outputs": []
    },
    {
      "cell_type": "markdown",
      "metadata": {
        "id": "iBQWiVaBumOF"
      },
      "source": [
        "# [Tugas Praktek-4.1](https://academy.dqlab.id/main/livecode/161/304/1375?pr=0)"
      ]
    },
    {
      "cell_type": "code",
      "metadata": {
        "id": "kQqagMjcuwXw"
      },
      "source": [
        "# Definisikan class Karyawan\n",
        "class Karyawan:\n",
        "    def __init__(self, nama, usia, pendapatan, insentif_lembur): \n",
        "        self.nama = nama\n",
        "        self.usia = usia \n",
        "        self.pendapatan = pendapatan \n",
        "        self.pendapatan_tambahan = 0\n",
        "        self.insentif_lembur = insentif_lembur \n",
        "    def lembur(self):\n",
        "        self.pendapatan_tambahan += self.insentif_lembur \n",
        "    def tambahan_proyek(self,jumlah_tambahan):\n",
        "        self.pendapatan_tambahan += jumlah_tambahan \n",
        "    def total_pendapatan(self):\n",
        "        return self.pendapatan + self.pendapatan_tambahan\n",
        "# Definisikan class TenagaLepas sebagai child class dari\n",
        "# class Karyawan\n",
        "class TenagaLepas(Karyawan):\n",
        "    def __init__(self, nama, usia, pendapatan):\n",
        "        super().__init__(nama, usia, pendapatan, 0)\n",
        "    def tambahan_proyek(self, nilai_proyek):\n",
        "        self.pendapatan_tambahan += nilai_proyek * 0.01"
      ],
      "execution_count": null,
      "outputs": []
    },
    {
      "cell_type": "markdown",
      "metadata": {
        "id": "_Ne8bUZ1uxSh"
      },
      "source": [
        "# [Tugas Praktek-4.2](https://academy.dqlab.id/main/livecode/161/304/1376?pr=0)"
      ]
    },
    {
      "cell_type": "code",
      "metadata": {
        "id": "yBvqd7Meu4xP"
      },
      "source": [
        "# Definisikan class Karyawan sebagai parent class\n",
        "class Karyawan:\n",
        "\tdef __init__(self, nama, usia, pendapatan, insentif_lembur):\n",
        "\t\tself.nama = nama\n",
        "\t\tself.usia = usia\n",
        "\t\tself.pendapatan = pendapatan\n",
        "\t\tself.pendapatan_tambahan = 0\n",
        "\t\tself.insentif_lembur = insentif_lembur\n",
        "\tdef lembur(self):\n",
        "\t\tself.pendapatan_tambahan += self.insentif_lembur\n",
        "\tdef tambahan_proyek(self,jumlah_tambahan):\n",
        "\t\tself.pendapatan_tambahan += jumlah_tambahan\n",
        "\tdef total_pendapatan(self):\n",
        "\treturn self.pendapatan + self.pendapatan_tambahan\n",
        "# Definisikan class TenagaLepas sebagai child class dari\n",
        "# class Karyawan\n",
        "class TenagaLepas(Karyawan):\n",
        "\tdef __init__(self, nama, usia, pendapatan):\n",
        "\t\tsuper().__init__(nama, usia, pendapatan, 0)\n",
        "\tdef tambahan_proyek(self, nilai_proyek):\n",
        "\t\tself.pendapatan_tambahan += nilai_proyek * 0.01\n",
        "# Definisikan class AnalisData sebagai child class dari\n",
        "# class Karyawan\n",
        "class AnalisData(Karyawan):\n",
        "\tpass\n",
        "# Definisikan class IlmuwanData sebagai child class dari\n",
        "# class Karyawan\n",
        "class IlmuwanData(Karyawan):\n",
        "\tdef tambahan_proyek(self, nilai_proyek):\n",
        "\t\tself.pendapatan_tambahan += 0.1 * nilai_proyek\n",
        "# Definisikan class PembersihData sebagai child class dari\n",
        "# class TenagaLepas\n",
        "class PembersihData(TenagaLepas):\n",
        "\tpass\n",
        "# Definisikan class DokumenterTeknis sebagai child class dari\n",
        "# class TenagaLepas\n",
        "class DokumenterTeknis(TenagaLepas):\n",
        "\tdef tambahan_proyek(self, jumlah_tambahan):\n",
        "return"
      ],
      "execution_count": null,
      "outputs": []
    },
    {
      "cell_type": "markdown",
      "metadata": {
        "id": "USrIDEsVu5aW"
      },
      "source": [
        "# [Tugas Praktek-4.3](https://academy.dqlab.id/main/livecode/161/304/1378?pr=0)"
      ]
    },
    {
      "cell_type": "code",
      "metadata": {
        "id": "OAc3pgN4vGw5"
      },
      "source": [
        "class Karyawan: \n",
        "    nama_perusahaan = 'ABC' \n",
        "    insentif_lembur = 250000\n",
        "    # usia akan di-set nilainya menjadi 21 saat tidak\n",
        "    # dispesifikasikan dan pendapatan akan di-set nilainya\n",
        "    # menjadi 5000000 saat tidak dispesifikasikan\n",
        "    def __init__(self, nama, usia=21, pendapatan=5000000): \n",
        "        self.nama = nama\n",
        "        self.usia = usia \n",
        "        self.pendapatan = pendapatan \n",
        "        self.pendapatan_tambahan = 0\n",
        "    def lembur(self):\n",
        "        self.pendapatan_tambahan += self.insentif_lembur \n",
        "    def tambahan_proyek(self, insentif_proyek):\n",
        "        self.pendapatan_tambahan += insentif_proyek \n",
        "    def total_pendapatan(self):\n",
        "        return self.pendapatan + self.pendapatan_tambahan\n",
        "# Karyawan baru pertama yang bernama Budi\n",
        "karyawan_baru1 = Karyawan('Budi')\n",
        "print(karyawan_baru1.nama)\n",
        "print(karyawan_baru1.usia)\n",
        "print(karyawan_baru1.total_pendapatan())\n",
        "# Karyawan baru ke-2 yang bernama Didi, umur 25\n",
        "karyawan_baru2 = Karyawan('Didi', 25)\n",
        "print(karyawan_baru2.nama)\n",
        "print(karyawan_baru2.usia)\n",
        "print(karyawan_baru2.total_pendapatan())\n",
        "# Karyawan baru ke-3 yang bernama Hadi, pendapatan 8000000\n",
        "karyawan_baru3 = Karyawan('Hadi', pendapatan= 8000000)\n",
        "print(karyawan_baru3.nama)\n",
        "print(karyawan_baru3.usia)\n",
        "print(karyawan_baru3.total_pendapatan())"
      ],
      "execution_count": null,
      "outputs": []
    },
    {
      "cell_type": "markdown",
      "metadata": {
        "id": "yKNQQ8mPvKHE"
      },
      "source": [
        "# [Studi Kasus dari Senja](https://academy.dqlab.id/main/livecode/161/305/1380?pr=0)"
      ]
    },
    {
      "cell_type": "code",
      "metadata": {
        "id": "TwltzDnbvWue"
      },
      "source": [
        "# Definisikan class Karyawan sebagai parent class\n",
        "class Karyawan:\n",
        "    def __init__(self, nama, usia, pendapatan, insentif_lembur):\n",
        "        self.nama = nama\n",
        "        self.usia = usia \n",
        "        self.pendapatan = pendapatan \n",
        "        self.pendapatan_tambahan = 0\n",
        "        self.insentif_lembur = insentif_lembur \n",
        "    def lembur(self):\n",
        "        self.pendapatan_tambahan +=  self.insentif_lembur \n",
        "    def tambahan_proyek(self,jumlah_tambahan):\n",
        "        self.pendapatan_tambahan += jumlah_tambahan\n",
        "    def total_pendapatan(self):\n",
        "        return self.pendapatan + self.pendapatan_tambahan \n",
        "\n",
        "# Definisikan class TenagaLepas sebagai child class dari class Karyawan \n",
        "class TenagaLepas(Karyawan):\n",
        "    def __init__(self, nama, usia, pendapatan): \n",
        "        super().__init__(nama, usia, pendapatan,0)\n",
        "    def tambahan_proyek(self, nilai_proyek): \n",
        "        self.pendapatan_tambahan += nilai_proyek * 0.01\n",
        "\n",
        "# Definisikan class AnalisData sebagai child class dari class Karyawan \n",
        "class AnalisData(Karyawan):\n",
        "    def __init__(self, nama, usia = 21, pendapatan = 6500000, \n",
        "                 insentif_lembur = 100000):\n",
        "        super().__init__(nama, usia, pendapatan, insentif_lembur) \n",
        "\n",
        "# Definisikan class IlmuwanData sebagai child class dari class Karyawan\n",
        "class IlmuwanData(Karyawan):\n",
        "    def __init__(self, nama, usia = 25, pendapatan = 12000000, \n",
        "                 insentif_lembur = 150000):\n",
        "        super().__init__(nama, usia, pendapatan, insentif_lembur) \n",
        "    def tambahan_proyek(self, nilai_proyek):\n",
        "        self.pendapatan_tambahan += 0.1 * nilai_proyek \n",
        "\n",
        "# Definisikan class PembersihData sebagai child class dari class TenagaLepas\n",
        "class PembersihData(TenagaLepas):\n",
        "    def __init__(self, nama, usia, pendapatan = 4000000): \n",
        "        super().__init__(nama, usia, pendapatan)\n",
        "\n",
        "# Definisikan class DokumenterTeknis sebagai child class dari class TenagaLepas\n",
        "class DokumenterTeknis(TenagaLepas):\n",
        "    def __init__(self, nama, usia, pendapatan = 2500000): \n",
        "        super().__init__(nama, usia, pendapatan)\n",
        "        def tambahan_proyek(self, jumlah_tambahan): \n",
        "            return\n",
        "\n",
        "# Definisikan class Perusahaan \n",
        "class Perusahaan:\n",
        "    def __init__(self, nama, alamat, nomor_telepon): \n",
        "        self.nama = nama\n",
        "        self.alamat = alamat \n",
        "        self.nomor_telepon = nomor_telepon \n",
        "        self.list_karyawan = []\n",
        "    def aktifkan_karyawan(self, karyawan): \n",
        "        self.list_karyawan.append(karyawan)\n",
        "    def nonaktifkan_karyawan(self, nama_karyawan): \n",
        "        karyawan_nonaktif = None\n",
        "        for karyawan in self.list_karyawan:\n",
        "            if karyawan.nama == nama_karyawan: \n",
        "                karyawan_nonaktif = karyawan \n",
        "                break\n",
        "        if karyawan_nonaktif is not None: \n",
        "            self.list_karyawan.remove(karyawan_nonaktif)\n",
        "    def total_pengeluaran(self): \n",
        "        pengeluaran = 0\n",
        "        for karyawan in self.list_karyawan:\n",
        "            pengeluaran += karyawan.total_pendapatan() \n",
        "        return pengeluaran\n",
        "    def cari_karyawan(self, nama_karyawan): \n",
        "        for karyawan in self.list_karyawan:\n",
        "            if karyawan.nama == nama_karyawan: \n",
        "                return karyawan\n",
        "        return None\n",
        "\n",
        "# Create object karyawan sesuai dengan tugasnya masing-masing\n",
        "# seperti yang dinyatakan dalam tabel.\n",
        "ani = PembersihData('Ani',25)\n",
        "budi = DokumenterTeknis('Budi', 18)\n",
        "cici = IlmuwanData('Cici')\n",
        "didi = IlmuwanData('Didi', 32, 20000000)\n",
        "efi = AnalisData('Efi')\n",
        "febi = AnalisData('Febi', 28, 12000000)\n",
        "\n",
        "# Create object perusahaan\n",
        "perusahaan = Perusahaan('ABC','Jl. Jendral Sudirman, Blok 11', '(021) 95812XX')\n",
        "\n",
        "# Aktifkan setiap karyawan yang telah didefinisikan\n",
        "perusahaan.aktifkan_karyawan(ani)\n",
        "perusahaan.aktifkan_karyawan(budi)\n",
        "perusahaan.aktifkan_karyawan(cici)\n",
        "perusahaan.aktifkan_karyawan(didi)\n",
        "perusahaan.aktifkan_karyawan(efi)\n",
        "perusahaan.aktifkan_karyawan(febi)\n",
        "\n",
        "# Cetak keseluruhan total pengeluaran perusahaan\n",
        "print(perusahaan.total_pengeluaran())"
      ],
      "execution_count": null,
      "outputs": []
    }
  ]
}